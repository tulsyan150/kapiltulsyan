{
 "cells": [
  {
   "cell_type": "code",
   "execution_count": 128,
   "metadata": {},
   "outputs": [],
   "source": [
    "import numpy as np\n",
    "import pandas as pd\n",
    "import seaborn as sns\n",
    "import matplotlib.pyplot as plt\n",
    "%matplotlib inline\n",
    "\n",
    "from sklearn.linear_model import LogisticRegression\n",
    "from sklearn.naive_bayes import MultinomialNB\n",
    "from sklearn.svm import SVC\n",
    "from sklearn.tree import DecisionTreeClassifier\n",
    "from sklearn.ensemble import RandomForestClassifier\n",
    "\n",
    "from sklearn.model_selection import cross_val_score\n",
    "from sklearn.model_selection import cross_val_predict\n",
    "\n",
    "from sklearn.preprocessing import StandardScaler\n",
    "\n",
    "from sklearn.model_selection import train_test_split\n",
    "from sklearn.metrics import classification_report, accuracy_score ,confusion_matrix\n",
    "import warnings\n",
    "warnings.filterwarnings(\"ignore\")"
   ]
  },
  {
   "cell_type": "code",
   "execution_count": 3,
   "metadata": {},
   "outputs": [
    {
     "data": {
      "text/html": [
       "<div>\n",
       "<style scoped>\n",
       "    .dataframe tbody tr th:only-of-type {\n",
       "        vertical-align: middle;\n",
       "    }\n",
       "\n",
       "    .dataframe tbody tr th {\n",
       "        vertical-align: top;\n",
       "    }\n",
       "\n",
       "    .dataframe thead th {\n",
       "        text-align: right;\n",
       "    }\n",
       "</style>\n",
       "<table border=\"1\" class=\"dataframe\">\n",
       "  <thead>\n",
       "    <tr style=\"text-align: right;\">\n",
       "      <th></th>\n",
       "      <th>age</th>\n",
       "      <th>sex</th>\n",
       "      <th>bmi</th>\n",
       "      <th>children</th>\n",
       "      <th>smoker</th>\n",
       "      <th>region</th>\n",
       "      <th>charges</th>\n",
       "      <th>insuranceclaim</th>\n",
       "    </tr>\n",
       "  </thead>\n",
       "  <tbody>\n",
       "    <tr>\n",
       "      <th>0</th>\n",
       "      <td>19</td>\n",
       "      <td>0</td>\n",
       "      <td>27.900</td>\n",
       "      <td>0</td>\n",
       "      <td>1</td>\n",
       "      <td>3</td>\n",
       "      <td>16884.92400</td>\n",
       "      <td>1</td>\n",
       "    </tr>\n",
       "    <tr>\n",
       "      <th>1</th>\n",
       "      <td>18</td>\n",
       "      <td>1</td>\n",
       "      <td>33.770</td>\n",
       "      <td>1</td>\n",
       "      <td>0</td>\n",
       "      <td>2</td>\n",
       "      <td>1725.55230</td>\n",
       "      <td>1</td>\n",
       "    </tr>\n",
       "    <tr>\n",
       "      <th>2</th>\n",
       "      <td>28</td>\n",
       "      <td>1</td>\n",
       "      <td>33.000</td>\n",
       "      <td>3</td>\n",
       "      <td>0</td>\n",
       "      <td>2</td>\n",
       "      <td>4449.46200</td>\n",
       "      <td>0</td>\n",
       "    </tr>\n",
       "    <tr>\n",
       "      <th>3</th>\n",
       "      <td>33</td>\n",
       "      <td>1</td>\n",
       "      <td>22.705</td>\n",
       "      <td>0</td>\n",
       "      <td>0</td>\n",
       "      <td>1</td>\n",
       "      <td>21984.47061</td>\n",
       "      <td>0</td>\n",
       "    </tr>\n",
       "    <tr>\n",
       "      <th>4</th>\n",
       "      <td>32</td>\n",
       "      <td>1</td>\n",
       "      <td>28.880</td>\n",
       "      <td>0</td>\n",
       "      <td>0</td>\n",
       "      <td>1</td>\n",
       "      <td>3866.85520</td>\n",
       "      <td>1</td>\n",
       "    </tr>\n",
       "  </tbody>\n",
       "</table>\n",
       "</div>"
      ],
      "text/plain": [
       "   age  sex     bmi  children  smoker  region      charges  insuranceclaim\n",
       "0   19    0  27.900         0       1       3  16884.92400               1\n",
       "1   18    1  33.770         1       0       2   1725.55230               1\n",
       "2   28    1  33.000         3       0       2   4449.46200               0\n",
       "3   33    1  22.705         0       0       1  21984.47061               0\n",
       "4   32    1  28.880         0       0       1   3866.85520               1"
      ]
     },
     "execution_count": 3,
     "metadata": {},
     "output_type": "execute_result"
    }
   ],
   "source": [
    "df=pd.read_csv(\"https://raw.githubusercontent.com/dsrscientist/DSData/master/SBI_Life_insurance.csv\")\n",
    "df=pd.DataFrame(data=df)\n",
    "df.head()"
   ]
  },
  {
   "cell_type": "code",
   "execution_count": 4,
   "metadata": {},
   "outputs": [
    {
     "data": {
      "text/plain": [
       "(1338, 8)"
      ]
     },
     "execution_count": 4,
     "metadata": {},
     "output_type": "execute_result"
    }
   ],
   "source": [
    "df.shape"
   ]
  },
  {
   "cell_type": "code",
   "execution_count": 5,
   "metadata": {},
   "outputs": [
    {
     "data": {
      "text/plain": [
       "Index(['age', 'sex', 'bmi', 'children', 'smoker', 'region', 'charges',\n",
       "       'insuranceclaim'],\n",
       "      dtype='object')"
      ]
     },
     "execution_count": 5,
     "metadata": {},
     "output_type": "execute_result"
    }
   ],
   "source": [
    "df.columns"
   ]
  },
  {
   "cell_type": "code",
   "execution_count": 6,
   "metadata": {
    "scrolled": false
   },
   "outputs": [
    {
     "data": {
      "text/html": [
       "<div>\n",
       "<style scoped>\n",
       "    .dataframe tbody tr th:only-of-type {\n",
       "        vertical-align: middle;\n",
       "    }\n",
       "\n",
       "    .dataframe tbody tr th {\n",
       "        vertical-align: top;\n",
       "    }\n",
       "\n",
       "    .dataframe thead th {\n",
       "        text-align: right;\n",
       "    }\n",
       "</style>\n",
       "<table border=\"1\" class=\"dataframe\">\n",
       "  <thead>\n",
       "    <tr style=\"text-align: right;\">\n",
       "      <th></th>\n",
       "      <th>age</th>\n",
       "      <th>sex</th>\n",
       "      <th>bmi</th>\n",
       "      <th>children</th>\n",
       "      <th>smoker</th>\n",
       "      <th>region</th>\n",
       "      <th>charges</th>\n",
       "      <th>insuranceclaim</th>\n",
       "    </tr>\n",
       "  </thead>\n",
       "  <tbody>\n",
       "    <tr>\n",
       "      <th>count</th>\n",
       "      <td>1338.000000</td>\n",
       "      <td>1338.000000</td>\n",
       "      <td>1338.000000</td>\n",
       "      <td>1338.000000</td>\n",
       "      <td>1338.000000</td>\n",
       "      <td>1338.000000</td>\n",
       "      <td>1338.000000</td>\n",
       "      <td>1338.000000</td>\n",
       "    </tr>\n",
       "    <tr>\n",
       "      <th>mean</th>\n",
       "      <td>39.207025</td>\n",
       "      <td>0.505232</td>\n",
       "      <td>30.663397</td>\n",
       "      <td>1.094918</td>\n",
       "      <td>0.204783</td>\n",
       "      <td>1.515695</td>\n",
       "      <td>13270.422265</td>\n",
       "      <td>0.585202</td>\n",
       "    </tr>\n",
       "    <tr>\n",
       "      <th>std</th>\n",
       "      <td>14.049960</td>\n",
       "      <td>0.500160</td>\n",
       "      <td>6.098187</td>\n",
       "      <td>1.205493</td>\n",
       "      <td>0.403694</td>\n",
       "      <td>1.104885</td>\n",
       "      <td>12110.011237</td>\n",
       "      <td>0.492871</td>\n",
       "    </tr>\n",
       "    <tr>\n",
       "      <th>min</th>\n",
       "      <td>18.000000</td>\n",
       "      <td>0.000000</td>\n",
       "      <td>15.960000</td>\n",
       "      <td>0.000000</td>\n",
       "      <td>0.000000</td>\n",
       "      <td>0.000000</td>\n",
       "      <td>1121.873900</td>\n",
       "      <td>0.000000</td>\n",
       "    </tr>\n",
       "    <tr>\n",
       "      <th>25%</th>\n",
       "      <td>27.000000</td>\n",
       "      <td>0.000000</td>\n",
       "      <td>26.296250</td>\n",
       "      <td>0.000000</td>\n",
       "      <td>0.000000</td>\n",
       "      <td>1.000000</td>\n",
       "      <td>4740.287150</td>\n",
       "      <td>0.000000</td>\n",
       "    </tr>\n",
       "    <tr>\n",
       "      <th>50%</th>\n",
       "      <td>39.000000</td>\n",
       "      <td>1.000000</td>\n",
       "      <td>30.400000</td>\n",
       "      <td>1.000000</td>\n",
       "      <td>0.000000</td>\n",
       "      <td>2.000000</td>\n",
       "      <td>9382.033000</td>\n",
       "      <td>1.000000</td>\n",
       "    </tr>\n",
       "    <tr>\n",
       "      <th>75%</th>\n",
       "      <td>51.000000</td>\n",
       "      <td>1.000000</td>\n",
       "      <td>34.693750</td>\n",
       "      <td>2.000000</td>\n",
       "      <td>0.000000</td>\n",
       "      <td>2.000000</td>\n",
       "      <td>16639.912515</td>\n",
       "      <td>1.000000</td>\n",
       "    </tr>\n",
       "    <tr>\n",
       "      <th>max</th>\n",
       "      <td>64.000000</td>\n",
       "      <td>1.000000</td>\n",
       "      <td>53.130000</td>\n",
       "      <td>5.000000</td>\n",
       "      <td>1.000000</td>\n",
       "      <td>3.000000</td>\n",
       "      <td>63770.428010</td>\n",
       "      <td>1.000000</td>\n",
       "    </tr>\n",
       "  </tbody>\n",
       "</table>\n",
       "</div>"
      ],
      "text/plain": [
       "               age          sex          bmi     children       smoker  \\\n",
       "count  1338.000000  1338.000000  1338.000000  1338.000000  1338.000000   \n",
       "mean     39.207025     0.505232    30.663397     1.094918     0.204783   \n",
       "std      14.049960     0.500160     6.098187     1.205493     0.403694   \n",
       "min      18.000000     0.000000    15.960000     0.000000     0.000000   \n",
       "25%      27.000000     0.000000    26.296250     0.000000     0.000000   \n",
       "50%      39.000000     1.000000    30.400000     1.000000     0.000000   \n",
       "75%      51.000000     1.000000    34.693750     2.000000     0.000000   \n",
       "max      64.000000     1.000000    53.130000     5.000000     1.000000   \n",
       "\n",
       "            region       charges  insuranceclaim  \n",
       "count  1338.000000   1338.000000     1338.000000  \n",
       "mean      1.515695  13270.422265        0.585202  \n",
       "std       1.104885  12110.011237        0.492871  \n",
       "min       0.000000   1121.873900        0.000000  \n",
       "25%       1.000000   4740.287150        0.000000  \n",
       "50%       2.000000   9382.033000        1.000000  \n",
       "75%       2.000000  16639.912515        1.000000  \n",
       "max       3.000000  63770.428010        1.000000  "
      ]
     },
     "execution_count": 6,
     "metadata": {},
     "output_type": "execute_result"
    }
   ],
   "source": [
    "df.describe()"
   ]
  },
  {
   "cell_type": "code",
   "execution_count": 7,
   "metadata": {},
   "outputs": [
    {
     "data": {
      "text/html": [
       "<div>\n",
       "<style scoped>\n",
       "    .dataframe tbody tr th:only-of-type {\n",
       "        vertical-align: middle;\n",
       "    }\n",
       "\n",
       "    .dataframe tbody tr th {\n",
       "        vertical-align: top;\n",
       "    }\n",
       "\n",
       "    .dataframe thead th {\n",
       "        text-align: right;\n",
       "    }\n",
       "</style>\n",
       "<table border=\"1\" class=\"dataframe\">\n",
       "  <thead>\n",
       "    <tr style=\"text-align: right;\">\n",
       "      <th></th>\n",
       "      <th>age</th>\n",
       "      <th>sex</th>\n",
       "      <th>bmi</th>\n",
       "      <th>children</th>\n",
       "      <th>smoker</th>\n",
       "      <th>region</th>\n",
       "      <th>charges</th>\n",
       "      <th>insuranceclaim</th>\n",
       "    </tr>\n",
       "  </thead>\n",
       "  <tbody>\n",
       "    <tr>\n",
       "      <th>0</th>\n",
       "      <td>19</td>\n",
       "      <td>0</td>\n",
       "      <td>27.900</td>\n",
       "      <td>0</td>\n",
       "      <td>1</td>\n",
       "      <td>3</td>\n",
       "      <td>16884.92400</td>\n",
       "      <td>1</td>\n",
       "    </tr>\n",
       "    <tr>\n",
       "      <th>1</th>\n",
       "      <td>18</td>\n",
       "      <td>1</td>\n",
       "      <td>33.770</td>\n",
       "      <td>1</td>\n",
       "      <td>0</td>\n",
       "      <td>2</td>\n",
       "      <td>1725.55230</td>\n",
       "      <td>1</td>\n",
       "    </tr>\n",
       "    <tr>\n",
       "      <th>2</th>\n",
       "      <td>28</td>\n",
       "      <td>1</td>\n",
       "      <td>33.000</td>\n",
       "      <td>3</td>\n",
       "      <td>0</td>\n",
       "      <td>2</td>\n",
       "      <td>4449.46200</td>\n",
       "      <td>0</td>\n",
       "    </tr>\n",
       "    <tr>\n",
       "      <th>3</th>\n",
       "      <td>33</td>\n",
       "      <td>1</td>\n",
       "      <td>22.705</td>\n",
       "      <td>0</td>\n",
       "      <td>0</td>\n",
       "      <td>1</td>\n",
       "      <td>21984.47061</td>\n",
       "      <td>0</td>\n",
       "    </tr>\n",
       "    <tr>\n",
       "      <th>4</th>\n",
       "      <td>32</td>\n",
       "      <td>1</td>\n",
       "      <td>28.880</td>\n",
       "      <td>0</td>\n",
       "      <td>0</td>\n",
       "      <td>1</td>\n",
       "      <td>3866.85520</td>\n",
       "      <td>1</td>\n",
       "    </tr>\n",
       "  </tbody>\n",
       "</table>\n",
       "</div>"
      ],
      "text/plain": [
       "   age  sex     bmi  children  smoker  region      charges  insuranceclaim\n",
       "0   19    0  27.900         0       1       3  16884.92400               1\n",
       "1   18    1  33.770         1       0       2   1725.55230               1\n",
       "2   28    1  33.000         3       0       2   4449.46200               0\n",
       "3   33    1  22.705         0       0       1  21984.47061               0\n",
       "4   32    1  28.880         0       0       1   3866.85520               1"
      ]
     },
     "execution_count": 7,
     "metadata": {},
     "output_type": "execute_result"
    }
   ],
   "source": [
    "df.head()"
   ]
  },
  {
   "cell_type": "code",
   "execution_count": 9,
   "metadata": {},
   "outputs": [
    {
     "data": {
      "text/plain": [
       "1    676\n",
       "0    662\n",
       "Name: sex, dtype: int64"
      ]
     },
     "execution_count": 9,
     "metadata": {},
     "output_type": "execute_result"
    }
   ],
   "source": [
    "df[\"sex\"].value_counts()\n",
    "#1 is male\n",
    "#0 is female"
   ]
  },
  {
   "cell_type": "code",
   "execution_count": 10,
   "metadata": {},
   "outputs": [
    {
     "data": {
      "text/plain": [
       "0    574\n",
       "1    324\n",
       "2    240\n",
       "3    157\n",
       "4     25\n",
       "5     18\n",
       "Name: children, dtype: int64"
      ]
     },
     "execution_count": 10,
     "metadata": {},
     "output_type": "execute_result"
    }
   ],
   "source": [
    "# df[\"bmi\"].value_counts()\n",
    "df[\"children\"].value_counts()"
   ]
  },
  {
   "cell_type": "code",
   "execution_count": 11,
   "metadata": {},
   "outputs": [
    {
     "data": {
      "text/plain": [
       "0    1064\n",
       "1     274\n",
       "Name: smoker, dtype: int64"
      ]
     },
     "execution_count": 11,
     "metadata": {},
     "output_type": "execute_result"
    }
   ],
   "source": [
    "df[\"smoker\"].value_counts()\n",
    "# o is non smoker\n",
    "# 1 is smoker"
   ]
  },
  {
   "cell_type": "code",
   "execution_count": 12,
   "metadata": {},
   "outputs": [
    {
     "data": {
      "text/plain": [
       "2    364\n",
       "3    325\n",
       "1    325\n",
       "0    324\n",
       "Name: region, dtype: int64"
      ]
     },
     "execution_count": 12,
     "metadata": {},
     "output_type": "execute_result"
    }
   ],
   "source": [
    "df[\"region\"].value_counts()\n",
    "# region: the residential area of policyholder in the US (northeast=0,northwest=1, southeast=2, southwest=3)"
   ]
  },
  {
   "cell_type": "code",
   "execution_count": 13,
   "metadata": {},
   "outputs": [
    {
     "data": {
      "text/plain": [
       "1    783\n",
       "0    555\n",
       "Name: insuranceclaim, dtype: int64"
      ]
     },
     "execution_count": 13,
     "metadata": {},
     "output_type": "execute_result"
    }
   ],
   "source": [
    "df[\"insuranceclaim\"].value_counts()\n",
    "# insuranceclaim: yes=1, no=0"
   ]
  },
  {
   "cell_type": "markdown",
   "metadata": {},
   "source": [
    "## EDA"
   ]
  },
  {
   "cell_type": "code",
   "execution_count": 14,
   "metadata": {},
   "outputs": [
    {
     "data": {
      "text/plain": [
       "age               0\n",
       "sex               0\n",
       "bmi               0\n",
       "children          0\n",
       "smoker            0\n",
       "region            0\n",
       "charges           0\n",
       "insuranceclaim    0\n",
       "dtype: int64"
      ]
     },
     "execution_count": 14,
     "metadata": {},
     "output_type": "execute_result"
    }
   ],
   "source": [
    "df.isnull().sum()"
   ]
  },
  {
   "cell_type": "code",
   "execution_count": 15,
   "metadata": {},
   "outputs": [
    {
     "data": {
      "text/plain": [
       "Index(['age', 'sex', 'bmi', 'children', 'smoker', 'region', 'charges',\n",
       "       'insuranceclaim'],\n",
       "      dtype='object')"
      ]
     },
     "execution_count": 15,
     "metadata": {},
     "output_type": "execute_result"
    }
   ],
   "source": [
    "df.columns"
   ]
  },
  {
   "cell_type": "code",
   "execution_count": 16,
   "metadata": {},
   "outputs": [
    {
     "data": {
      "text/plain": [
       "Text(0.5, 1.0, 'sex count')"
      ]
     },
     "execution_count": 16,
     "metadata": {},
     "output_type": "execute_result"
    },
    {
     "data": {
      "image/png": "[encoded data removed]",
      "text/plain": [
       "<Figure size 432x288 with 1 Axes>"
      ]
     },
     "metadata": {
      "needs_background": "light"
     },
     "output_type": "display_data"
    }
   ],
   "source": [
    "sns.countplot(data=df,y=\"sex\")\n",
    "plt.title(\"sex count\")"
   ]
  },
  {
   "cell_type": "code",
   "execution_count": 17,
   "metadata": {},
   "outputs": [
    {
     "data": {
      "text/plain": [
       "Text(0.5, 1, 'age of the customers')"
      ]
     },
     "execution_count": 17,
     "metadata": {},
     "output_type": "execute_result"
    },
    {
     "data": {
      "image/png": "[encoded data removed]",
      "text/plain": [
       "<Figure size 360x360 with 1 Axes>"
      ]
     },
     "metadata": {
      "needs_background": "light"
     },
     "output_type": "display_data"
    }
   ],
   "source": [
    "sns.catplot(data=df,x=\"sex\",y=\"age\",kind=\"box\")\n",
    "plt.title(\"age of the customers\")\n",
    "\n",
    "#the mean age in male and female both are around 40 where 1 is male "
   ]
  },
  {
   "cell_type": "code",
   "execution_count": 18,
   "metadata": {},
   "outputs": [
    {
     "data": {
      "text/plain": [
       "Text(0.5, 1.0, 'smokers count')"
      ]
     },
     "execution_count": 18,
     "metadata": {},
     "output_type": "execute_result"
    },
    {
     "data": {
      "image/png": "[encoded data removed]",
      "text/plain": [
       "<Figure size 432x288 with 1 Axes>"
      ]
     },
     "metadata": {
      "needs_background": "light"
     },
     "output_type": "display_data"
    }
   ],
   "source": [
    "sns.countplot(x=\"smoker\",data=df)\n",
    "plt.title(\"smokers count\")\n",
    "#very less non smokers are present compared to the smokers"
   ]
  },
  {
   "cell_type": "code",
   "execution_count": 19,
   "metadata": {},
   "outputs": [
    {
     "data": {
      "text/plain": [
       "Text(0.5, 1.0, 'number of children parents have')"
      ]
     },
     "execution_count": 19,
     "metadata": {},
     "output_type": "execute_result"
    },
    {
     "data": {
      "image/png": "[encoded data removed]",
      "text/plain": [
       "<Figure size 432x288 with 1 Axes>"
      ]
     },
     "metadata": {
      "needs_background": "light"
     },
     "output_type": "display_data"
    }
   ],
   "source": [
    "sns.countplot(x=\"children\",data=df)\n",
    "plt.title(\"number of children parents have\")"
   ]
  },
  {
   "cell_type": "code",
   "execution_count": 20,
   "metadata": {},
   "outputs": [
    {
     "data": {
      "text/plain": [
       "<seaborn.axisgrid.FacetGrid at 0x1a74d379dd8>"
      ]
     },
     "execution_count": 20,
     "metadata": {},
     "output_type": "execute_result"
    },
    {
     "data": {
      "image/png": "[encoded data removed]",
      "text/plain": [
       "<Figure size 402.375x360 with 1 Axes>"
      ]
     },
     "metadata": {
      "needs_background": "light"
     },
     "output_type": "display_data"
    }
   ],
   "source": [
    "sns.catplot(data=df,x=\"children\",y=\"age\",kind=\"bar\",hue=\"sex\")"
   ]
  },
  {
   "cell_type": "code",
   "execution_count": 21,
   "metadata": {},
   "outputs": [
    {
     "data": {
      "text/plain": [
       "Text(0.5, 1.0, 'age and charges')"
      ]
     },
     "execution_count": 21,
     "metadata": {},
     "output_type": "execute_result"
    },
    {
     "data": {
      "image/png": "[encoded data removed]",
      "text/plain": [
       "<Figure size 864x504 with 1 Axes>"
      ]
     },
     "metadata": {
      "needs_background": "light"
     },
     "output_type": "display_data"
    }
   ],
   "source": [
    "plt.figure(figsize=(12,7))\n",
    "sns.barplot(x=\"age\",y=\"charges\",data=df)\n",
    "plt.title(\"age and charges\")\n",
    "\n",
    "#higher the age higher is the insurance charges"
   ]
  },
  {
   "cell_type": "code",
   "execution_count": 22,
   "metadata": {},
   "outputs": [
    {
     "data": {
      "text/plain": [
       "Text(0.5, 1.0, \"customer's regions\")"
      ]
     },
     "execution_count": 22,
     "metadata": {},
     "output_type": "execute_result"
    },
    {
     "data": {
      "image/png": "[encoded data removed]",
      "text/plain": [
       "<Figure size 432x288 with 1 Axes>"
      ]
     },
     "metadata": {
      "needs_background": "light"
     },
     "output_type": "display_data"
    }
   ],
   "source": [
    "sns.countplot(x=\"region\",data=df)\n",
    "plt.title(\"customer's regions\")"
   ]
  },
  {
   "cell_type": "code",
   "execution_count": 23,
   "metadata": {},
   "outputs": [
    {
     "data": {
      "text/plain": [
       "Text(0.5, 1.0, 'region vs charges')"
      ]
     },
     "execution_count": 23,
     "metadata": {},
     "output_type": "execute_result"
    },
    {
     "data": {
      "image/png": "[encoded data removed]",
      "text/plain": [
       "<Figure size 432x288 with 1 Axes>"
      ]
     },
     "metadata": {
      "needs_background": "light"
     },
     "output_type": "display_data"
    }
   ],
   "source": [
    "#we will check if the region effects the insurance charges\n",
    "sns.boxplot(x=\"region\",y=\"charges\",data=df)\n",
    "plt.title(\"region vs charges\")\n",
    "\n",
    "#we can see that the region does not effect the insurance charges of the cusotmers hence it will be dropped"
   ]
  },
  {
   "cell_type": "code",
   "execution_count": 31,
   "metadata": {},
   "outputs": [
    {
     "data": {
      "text/plain": [
       "<matplotlib.axes._subplots.AxesSubplot at 0x1a74e1b7b38>"
      ]
     },
     "execution_count": 31,
     "metadata": {},
     "output_type": "execute_result"
    },
    {
     "data": {
      "image/png": "[encoded data removed]",
      "text/plain": [
       "<Figure size 720x576 with 1 Axes>"
      ]
     },
     "metadata": {
      "needs_background": "light"
     },
     "output_type": "display_data"
    }
   ],
   "source": [
    "#higher the children higher are the insurance charges. lets visualise it\n",
    "plt.figure(figsize=(10,8))\n",
    "plt.title(\"children vs charges\")\n",
    "\n",
    "sns.barplot(x=\"children\",y=\"charges\",data=df)\n",
    "#here we can see that the the parents with 5 children have to pay less than other parents. usually parents with hihger number \n",
    "# children have to pay more charges."
   ]
  },
  {
   "cell_type": "code",
   "execution_count": 34,
   "metadata": {},
   "outputs": [
    {
     "data": {
      "text/plain": [
       "<matplotlib.axes._subplots.AxesSubplot at 0x1a74e367f60>"
      ]
     },
     "execution_count": 34,
     "metadata": {},
     "output_type": "execute_result"
    },
    {
     "data": {
      "image/png": "[encoded data removed]",
      "text/plain": [
       "<Figure size 720x504 with 1 Axes>"
      ]
     },
     "metadata": {
      "needs_background": "light"
     },
     "output_type": "display_data"
    }
   ],
   "source": [
    "plt.figure(figsize=(10,7))\n",
    "plt.title(\"smokers vs charges\")\n",
    "sns.barplot(x=\"smoker\",y=\"charges\",data=df)\n",
    "\n",
    "#from the graph we can see that the people who smoke have more isnurance costs than people who dont smoke"
   ]
  },
  {
   "cell_type": "code",
   "execution_count": 125,
   "metadata": {},
   "outputs": [
    {
     "data": {
      "text/plain": [
       "<matplotlib.axes._subplots.AxesSubplot at 0x1a759571588>"
      ]
     },
     "execution_count": 125,
     "metadata": {},
     "output_type": "execute_result"
    },
    {
     "data": {
      "image/png": "[encoded data removed]",
      "text/plain": [
       "<Figure size 864x576 with 2 Axes>"
      ]
     },
     "metadata": {
      "needs_background": "light"
     },
     "output_type": "display_data"
    }
   ],
   "source": [
    "plt.figure(figsize=(12,8))\n",
    "corr=df.corr()\n",
    "sns.heatmap(corr,annot=True)\n",
    "#checking out the correletion of the features using a heatmap"
   ]
  },
  {
   "cell_type": "code",
   "execution_count": 25,
   "metadata": {},
   "outputs": [
    {
     "data": {
      "text/plain": [
       "<matplotlib.axes._subplots.AxesSubplot at 0x1a74d7c6940>"
      ]
     },
     "execution_count": 25,
     "metadata": {},
     "output_type": "execute_result"
    },
    {
     "data": {
      "image/png": "[encoded data removed]",
      "text/plain": [
       "<Figure size 432x288 with 1 Axes>"
      ]
     },
     "metadata": {
      "needs_background": "light"
     },
     "output_type": "display_data"
    }
   ],
   "source": [
    "sns.boxplot(data=df)"
   ]
  },
  {
   "cell_type": "code",
   "execution_count": 45,
   "metadata": {},
   "outputs": [
    {
     "data": {
      "text/plain": [
       "(1338, 7)"
      ]
     },
     "execution_count": 45,
     "metadata": {},
     "output_type": "execute_result"
    }
   ],
   "source": [
    "#now lets remove the unnecessary the columns i.e region from the dataframe\n",
    "\n",
    "data=df.drop(\"region\",axis=1)\n",
    "data.shape"
   ]
  },
  {
   "cell_type": "markdown",
   "metadata": {},
   "source": [
    "# Train test split"
   ]
  },
  {
   "cell_type": "code",
   "execution_count": 46,
   "metadata": {},
   "outputs": [
    {
     "data": {
      "text/html": [
       "<div>\n",
       "<style scoped>\n",
       "    .dataframe tbody tr th:only-of-type {\n",
       "        vertical-align: middle;\n",
       "    }\n",
       "\n",
       "    .dataframe tbody tr th {\n",
       "        vertical-align: top;\n",
       "    }\n",
       "\n",
       "    .dataframe thead th {\n",
       "        text-align: right;\n",
       "    }\n",
       "</style>\n",
       "<table border=\"1\" class=\"dataframe\">\n",
       "  <thead>\n",
       "    <tr style=\"text-align: right;\">\n",
       "      <th></th>\n",
       "      <th>age</th>\n",
       "      <th>sex</th>\n",
       "      <th>bmi</th>\n",
       "      <th>children</th>\n",
       "      <th>smoker</th>\n",
       "      <th>charges</th>\n",
       "      <th>insuranceclaim</th>\n",
       "    </tr>\n",
       "  </thead>\n",
       "  <tbody>\n",
       "    <tr>\n",
       "      <th>0</th>\n",
       "      <td>19</td>\n",
       "      <td>0</td>\n",
       "      <td>27.900</td>\n",
       "      <td>0</td>\n",
       "      <td>1</td>\n",
       "      <td>16884.92400</td>\n",
       "      <td>1</td>\n",
       "    </tr>\n",
       "    <tr>\n",
       "      <th>1</th>\n",
       "      <td>18</td>\n",
       "      <td>1</td>\n",
       "      <td>33.770</td>\n",
       "      <td>1</td>\n",
       "      <td>0</td>\n",
       "      <td>1725.55230</td>\n",
       "      <td>1</td>\n",
       "    </tr>\n",
       "    <tr>\n",
       "      <th>2</th>\n",
       "      <td>28</td>\n",
       "      <td>1</td>\n",
       "      <td>33.000</td>\n",
       "      <td>3</td>\n",
       "      <td>0</td>\n",
       "      <td>4449.46200</td>\n",
       "      <td>0</td>\n",
       "    </tr>\n",
       "    <tr>\n",
       "      <th>3</th>\n",
       "      <td>33</td>\n",
       "      <td>1</td>\n",
       "      <td>22.705</td>\n",
       "      <td>0</td>\n",
       "      <td>0</td>\n",
       "      <td>21984.47061</td>\n",
       "      <td>0</td>\n",
       "    </tr>\n",
       "    <tr>\n",
       "      <th>4</th>\n",
       "      <td>32</td>\n",
       "      <td>1</td>\n",
       "      <td>28.880</td>\n",
       "      <td>0</td>\n",
       "      <td>0</td>\n",
       "      <td>3866.85520</td>\n",
       "      <td>1</td>\n",
       "    </tr>\n",
       "  </tbody>\n",
       "</table>\n",
       "</div>"
      ],
      "text/plain": [
       "   age  sex     bmi  children  smoker      charges  insuranceclaim\n",
       "0   19    0  27.900         0       1  16884.92400               1\n",
       "1   18    1  33.770         1       0   1725.55230               1\n",
       "2   28    1  33.000         3       0   4449.46200               0\n",
       "3   33    1  22.705         0       0  21984.47061               0\n",
       "4   32    1  28.880         0       0   3866.85520               1"
      ]
     },
     "execution_count": 46,
     "metadata": {},
     "output_type": "execute_result"
    }
   ],
   "source": [
    "data.head()"
   ]
  },
  {
   "cell_type": "code",
   "execution_count": 48,
   "metadata": {},
   "outputs": [
    {
     "data": {
      "text/html": [
       "<div>\n",
       "<style scoped>\n",
       "    .dataframe tbody tr th:only-of-type {\n",
       "        vertical-align: middle;\n",
       "    }\n",
       "\n",
       "    .dataframe tbody tr th {\n",
       "        vertical-align: top;\n",
       "    }\n",
       "\n",
       "    .dataframe thead th {\n",
       "        text-align: right;\n",
       "    }\n",
       "</style>\n",
       "<table border=\"1\" class=\"dataframe\">\n",
       "  <thead>\n",
       "    <tr style=\"text-align: right;\">\n",
       "      <th></th>\n",
       "      <th>age</th>\n",
       "      <th>sex</th>\n",
       "      <th>bmi</th>\n",
       "      <th>children</th>\n",
       "      <th>smoker</th>\n",
       "      <th>region</th>\n",
       "    </tr>\n",
       "  </thead>\n",
       "  <tbody>\n",
       "    <tr>\n",
       "      <th>0</th>\n",
       "      <td>19</td>\n",
       "      <td>0</td>\n",
       "      <td>27.900</td>\n",
       "      <td>0</td>\n",
       "      <td>1</td>\n",
       "      <td>3</td>\n",
       "    </tr>\n",
       "    <tr>\n",
       "      <th>1</th>\n",
       "      <td>18</td>\n",
       "      <td>1</td>\n",
       "      <td>33.770</td>\n",
       "      <td>1</td>\n",
       "      <td>0</td>\n",
       "      <td>2</td>\n",
       "    </tr>\n",
       "    <tr>\n",
       "      <th>2</th>\n",
       "      <td>28</td>\n",
       "      <td>1</td>\n",
       "      <td>33.000</td>\n",
       "      <td>3</td>\n",
       "      <td>0</td>\n",
       "      <td>2</td>\n",
       "    </tr>\n",
       "    <tr>\n",
       "      <th>3</th>\n",
       "      <td>33</td>\n",
       "      <td>1</td>\n",
       "      <td>22.705</td>\n",
       "      <td>0</td>\n",
       "      <td>0</td>\n",
       "      <td>1</td>\n",
       "    </tr>\n",
       "    <tr>\n",
       "      <th>4</th>\n",
       "      <td>32</td>\n",
       "      <td>1</td>\n",
       "      <td>28.880</td>\n",
       "      <td>0</td>\n",
       "      <td>0</td>\n",
       "      <td>1</td>\n",
       "    </tr>\n",
       "  </tbody>\n",
       "</table>\n",
       "</div>"
      ],
      "text/plain": [
       "   age  sex     bmi  children  smoker  region\n",
       "0   19    0  27.900         0       1       3\n",
       "1   18    1  33.770         1       0       2\n",
       "2   28    1  33.000         3       0       2\n",
       "3   33    1  22.705         0       0       1\n",
       "4   32    1  28.880         0       0       1"
      ]
     },
     "execution_count": 48,
     "metadata": {},
     "output_type": "execute_result"
    }
   ],
   "source": [
    "x=df.iloc[:,:-2]\n",
    "x.head()"
   ]
  },
  {
   "cell_type": "code",
   "execution_count": 52,
   "metadata": {},
   "outputs": [
    {
     "data": {
      "text/plain": [
       "0    1\n",
       "1    1\n",
       "2    0\n",
       "3    0\n",
       "4    1\n",
       "Name: insuranceclaim, dtype: int64"
      ]
     },
     "execution_count": 52,
     "metadata": {},
     "output_type": "execute_result"
    }
   ],
   "source": [
    "y=df.iloc[:,-1]\n",
    "y.head()"
   ]
  },
  {
   "cell_type": "code",
   "execution_count": 83,
   "metadata": {},
   "outputs": [],
   "source": [
    "# creating a standard scaler\n",
    "sc = StandardScaler()\n",
    "\n",
    "# feeding independents sets into the standard scaler\n",
    "train_x = sc.fit_transform(train_x)\n",
    "test_x = sc.fit_transform(test_x)"
   ]
  },
  {
   "cell_type": "code",
   "execution_count": 88,
   "metadata": {},
   "outputs": [
    {
     "name": "stdout",
     "output_type": "stream",
     "text": [
      "accuracy score corresponding to the random state 0 is 0.8631840796019901\n",
      "accuracy score corresponding to the random state 1 is 0.8805970149253731\n",
      "accuracy score corresponding to the random state 2 is 0.8830845771144279\n",
      "accuracy score corresponding to the random state 3 is 0.8656716417910447\n",
      "accuracy score corresponding to the random state 4 is 0.9029850746268657\n",
      "accuracy score corresponding to the random state 5 is 0.8756218905472637\n",
      "accuracy score corresponding to the random state 6 is 0.900497512437811\n",
      "accuracy score corresponding to the random state 7 is 0.8631840796019901\n",
      "accuracy score corresponding to the random state 8 is 0.8830845771144279\n",
      "accuracy score corresponding to the random state 9 is 0.8656716417910447\n",
      "accuracy score corresponding to the random state 10 is 0.8606965174129353\n",
      "accuracy score corresponding to the random state 11 is 0.8731343283582089\n",
      "accuracy score corresponding to the random state 12 is 0.8706467661691543\n",
      "accuracy score corresponding to the random state 13 is 0.8557213930348259\n",
      "accuracy score corresponding to the random state 14 is 0.8706467661691543\n",
      "accuracy score corresponding to the random state 15 is 0.8855721393034826\n",
      "accuracy score corresponding to the random state 16 is 0.8781094527363185\n",
      "accuracy score corresponding to the random state 17 is 0.8507462686567164\n",
      "accuracy score corresponding to the random state 18 is 0.8731343283582089\n",
      "accuracy score corresponding to the random state 19 is 0.9054726368159204\n",
      "accuracy score corresponding to the random state 20 is 0.8855721393034826\n",
      "accuracy score corresponding to the random state 21 is 0.8383084577114428\n",
      "accuracy score corresponding to the random state 22 is 0.8830845771144279\n",
      "accuracy score corresponding to the random state 23 is 0.8582089552238806\n",
      "accuracy score corresponding to the random state 24 is 0.8955223880597015\n",
      "accuracy score corresponding to the random state 25 is 0.8706467661691543\n",
      "accuracy score corresponding to the random state 26 is 0.8681592039800995\n",
      "accuracy score corresponding to the random state 27 is 0.9154228855721394\n",
      "accuracy score corresponding to the random state 28 is 0.8980099502487562\n",
      "accuracy score corresponding to the random state 29 is 0.8805970149253731\n",
      "accuracy score corresponding to the random state 30 is 0.8781094527363185\n",
      "accuracy score corresponding to the random state 31 is 0.8731343283582089\n",
      "accuracy score corresponding to the random state 32 is 0.9029850746268657\n",
      "accuracy score corresponding to the random state 33 is 0.8656716417910447\n",
      "accuracy score corresponding to the random state 34 is 0.8880597014925373\n",
      "accuracy score corresponding to the random state 35 is 0.8805970149253731\n",
      "accuracy score corresponding to the random state 36 is 0.845771144278607\n",
      "accuracy score corresponding to the random state 37 is 0.8731343283582089\n",
      "accuracy score corresponding to the random state 38 is 0.8557213930348259\n",
      "accuracy score corresponding to the random state 39 is 0.8656716417910447\n",
      "accuracy score corresponding to the random state 40 is 0.8905472636815921\n",
      "accuracy score corresponding to the random state 41 is 0.8681592039800995\n",
      "accuracy score corresponding to the random state 42 is 0.8805970149253731\n",
      "accuracy score corresponding to the random state 43 is 0.8706467661691543\n",
      "accuracy score corresponding to the random state 44 is 0.8805970149253731\n",
      "accuracy score corresponding to the random state 45 is 0.8855721393034826\n",
      "accuracy score corresponding to the random state 46 is 0.835820895522388\n",
      "accuracy score corresponding to the random state 47 is 0.8731343283582089\n",
      "accuracy score corresponding to the random state 48 is 0.8830845771144279\n",
      "accuracy score corresponding to the random state 49 is 0.8955223880597015\n",
      "accuracy score corresponding to the random state 50 is 0.8955223880597015\n",
      "accuracy score corresponding to the random state 51 is 0.8756218905472637\n",
      "accuracy score corresponding to the random state 52 is 0.9029850746268657\n",
      "accuracy score corresponding to the random state 53 is 0.8781094527363185\n",
      "accuracy score corresponding to the random state 54 is 0.8706467661691543\n",
      "accuracy score corresponding to the random state 55 is 0.8482587064676617\n",
      "accuracy score corresponding to the random state 56 is 0.8805970149253731\n",
      "accuracy score corresponding to the random state 57 is 0.8905472636815921\n",
      "accuracy score corresponding to the random state 58 is 0.8731343283582089\n",
      "accuracy score corresponding to the random state 59 is 0.8756218905472637\n",
      "accuracy score corresponding to the random state 60 is 0.8756218905472637\n",
      "accuracy score corresponding to the random state 61 is 0.8681592039800995\n",
      "accuracy score corresponding to the random state 62 is 0.8706467661691543\n",
      "accuracy score corresponding to the random state 63 is 0.8656716417910447\n",
      "accuracy score corresponding to the random state 64 is 0.8507462686567164\n",
      "accuracy score corresponding to the random state 65 is 0.8532338308457711\n",
      "accuracy score corresponding to the random state 66 is 0.8830845771144279\n",
      "accuracy score corresponding to the random state 67 is 0.8656716417910447\n",
      "accuracy score corresponding to the random state 68 is 0.8681592039800995\n",
      "accuracy score corresponding to the random state 69 is 0.900497512437811\n",
      "accuracy score corresponding to the random state 70 is 0.845771144278607\n",
      "accuracy score corresponding to the random state 71 is 0.8805970149253731\n",
      "accuracy score corresponding to the random state 72 is 0.8830845771144279\n",
      "accuracy score corresponding to the random state 73 is 0.8582089552238806\n",
      "accuracy score corresponding to the random state 74 is 0.8507462686567164\n",
      "accuracy score corresponding to the random state 75 is 0.8905472636815921\n",
      "accuracy score corresponding to the random state 76 is 0.8606965174129353\n",
      "accuracy score corresponding to the random state 77 is 0.8631840796019901\n",
      "accuracy score corresponding to the random state 78 is 0.8482587064676617\n",
      "accuracy score corresponding to the random state 79 is 0.8582089552238806\n",
      "accuracy score corresponding to the random state 80 is 0.8855721393034826\n",
      "accuracy score corresponding to the random state 81 is 0.8432835820895522\n",
      "accuracy score corresponding to the random state 82 is 0.8830845771144279\n",
      "accuracy score corresponding to the random state 83 is 0.8930348258706468\n",
      "accuracy score corresponding to the random state 84 is 0.835820895522388\n",
      "accuracy score corresponding to the random state 85 is 0.8756218905472637\n",
      "accuracy score corresponding to the random state 86 is 0.8855721393034826\n",
      "accuracy score corresponding to the random state 87 is 0.8830845771144279\n",
      "accuracy score corresponding to the random state 88 is 0.8507462686567164\n",
      "accuracy score corresponding to the random state 89 is 0.8805970149253731\n",
      "accuracy score corresponding to the random state 90 is 0.8781094527363185\n",
      "accuracy score corresponding to the random state 91 is 0.8830845771144279\n",
      "accuracy score corresponding to the random state 92 is 0.8681592039800995\n",
      "accuracy score corresponding to the random state 93 is 0.8606965174129353\n",
      "accuracy score corresponding to the random state 94 is 0.9029850746268657\n",
      "accuracy score corresponding to the random state 95 is 0.8482587064676617\n",
      "accuracy score corresponding to the random state 96 is 0.8905472636815921\n",
      "accuracy score corresponding to the random state 97 is 0.8855721393034826\n",
      "accuracy score corresponding to the random state 98 is 0.8681592039800995\n",
      "accuracy score corresponding to the random state 99 is 0.8656716417910447\n",
      "accuracy score corresponding to the random state 100 is 0.8731343283582089\n",
      "Model used  ; LogisticRegression(C=1.0, class_weight=None, dual=False, fit_intercept=True,\n",
      "                   intercept_scaling=1, l1_ratio=None, max_iter=100,\n",
      "                   multi_class='warn', n_jobs=None, penalty='l2',\n",
      "                   random_state=None, solver='warn', tol=0.0001, verbose=0,\n",
      "                   warm_start=False)\n",
      "\n",
      "\n",
      "accuracy score corresponding to the random state 0 is 0.736318407960199\n",
      "accuracy score corresponding to the random state 1 is 0.7611940298507462\n",
      "accuracy score corresponding to the random state 2 is 0.7412935323383084\n",
      "accuracy score corresponding to the random state 3 is 0.7587064676616916\n",
      "accuracy score corresponding to the random state 4 is 0.7661691542288557\n",
      "accuracy score corresponding to the random state 5 is 0.763681592039801\n",
      "accuracy score corresponding to the random state 6 is 0.7960199004975125\n",
      "accuracy score corresponding to the random state 7 is 0.7487562189054726\n",
      "accuracy score corresponding to the random state 8 is 0.7935323383084577\n",
      "accuracy score corresponding to the random state 9 is 0.7835820895522388\n",
      "accuracy score corresponding to the random state 10 is 0.736318407960199\n",
      "accuracy score corresponding to the random state 11 is 0.7686567164179104\n",
      "accuracy score corresponding to the random state 12 is 0.7686567164179104\n",
      "accuracy score corresponding to the random state 13 is 0.7412935323383084\n",
      "accuracy score corresponding to the random state 14 is 0.7587064676616916\n",
      "accuracy score corresponding to the random state 15 is 0.7412935323383084\n",
      "accuracy score corresponding to the random state 16 is 0.7562189054726368\n",
      "accuracy score corresponding to the random state 17 is 0.7213930348258707\n",
      "accuracy score corresponding to the random state 18 is 0.753731343283582\n",
      "accuracy score corresponding to the random state 19 is 0.753731343283582\n",
      "accuracy score corresponding to the random state 20 is 0.7611940298507462\n"
     ]
    },
    {
     "name": "stdout",
     "output_type": "stream",
     "text": [
      "accuracy score corresponding to the random state 21 is 0.7213930348258707\n",
      "accuracy score corresponding to the random state 22 is 0.7761194029850746\n",
      "accuracy score corresponding to the random state 23 is 0.7338308457711443\n",
      "accuracy score corresponding to the random state 24 is 0.7810945273631841\n",
      "accuracy score corresponding to the random state 25 is 0.7587064676616916\n",
      "accuracy score corresponding to the random state 26 is 0.7437810945273632\n",
      "accuracy score corresponding to the random state 27 is 0.8208955223880597\n",
      "accuracy score corresponding to the random state 28 is 0.7711442786069652\n",
      "accuracy score corresponding to the random state 29 is 0.7860696517412935\n",
      "accuracy score corresponding to the random state 30 is 0.7711442786069652\n",
      "accuracy score corresponding to the random state 31 is 0.7835820895522388\n",
      "accuracy score corresponding to the random state 32 is 0.7885572139303483\n",
      "accuracy score corresponding to the random state 33 is 0.7338308457711443\n",
      "accuracy score corresponding to the random state 34 is 0.7910447761194029\n",
      "accuracy score corresponding to the random state 35 is 0.7587064676616916\n",
      "accuracy score corresponding to the random state 36 is 0.7388059701492538\n",
      "accuracy score corresponding to the random state 37 is 0.7711442786069652\n",
      "accuracy score corresponding to the random state 38 is 0.7512437810945274\n",
      "accuracy score corresponding to the random state 39 is 0.7512437810945274\n",
      "accuracy score corresponding to the random state 40 is 0.753731343283582\n",
      "accuracy score corresponding to the random state 41 is 0.7786069651741293\n",
      "accuracy score corresponding to the random state 42 is 0.7810945273631841\n",
      "accuracy score corresponding to the random state 43 is 0.7860696517412935\n",
      "accuracy score corresponding to the random state 44 is 0.8034825870646766\n",
      "accuracy score corresponding to the random state 45 is 0.7835820895522388\n",
      "accuracy score corresponding to the random state 46 is 0.7412935323383084\n",
      "accuracy score corresponding to the random state 47 is 0.7910447761194029\n",
      "accuracy score corresponding to the random state 48 is 0.763681592039801\n",
      "accuracy score corresponding to the random state 49 is 0.7587064676616916\n",
      "accuracy score corresponding to the random state 50 is 0.7761194029850746\n",
      "accuracy score corresponding to the random state 51 is 0.753731343283582\n",
      "accuracy score corresponding to the random state 52 is 0.8109452736318408\n",
      "accuracy score corresponding to the random state 53 is 0.7487562189054726\n",
      "accuracy score corresponding to the random state 54 is 0.7587064676616916\n",
      "accuracy score corresponding to the random state 55 is 0.7562189054726368\n",
      "accuracy score corresponding to the random state 56 is 0.7711442786069652\n",
      "accuracy score corresponding to the random state 57 is 0.8084577114427861\n",
      "accuracy score corresponding to the random state 58 is 0.746268656716418\n",
      "accuracy score corresponding to the random state 59 is 0.7611940298507462\n",
      "accuracy score corresponding to the random state 60 is 0.7611940298507462\n",
      "accuracy score corresponding to the random state 61 is 0.753731343283582\n",
      "accuracy score corresponding to the random state 62 is 0.7313432835820896\n",
      "accuracy score corresponding to the random state 63 is 0.7587064676616916\n",
      "accuracy score corresponding to the random state 64 is 0.746268656716418\n",
      "accuracy score corresponding to the random state 65 is 0.7512437810945274\n",
      "accuracy score corresponding to the random state 66 is 0.7512437810945274\n",
      "accuracy score corresponding to the random state 67 is 0.753731343283582\n",
      "accuracy score corresponding to the random state 68 is 0.7810945273631841\n",
      "accuracy score corresponding to the random state 69 is 0.7960199004975125\n",
      "accuracy score corresponding to the random state 70 is 0.7139303482587065\n",
      "accuracy score corresponding to the random state 71 is 0.7810945273631841\n",
      "accuracy score corresponding to the random state 72 is 0.7412935323383084\n",
      "accuracy score corresponding to the random state 73 is 0.7587064676616916\n",
      "accuracy score corresponding to the random state 74 is 0.7288557213930348\n",
      "accuracy score corresponding to the random state 75 is 0.7736318407960199\n",
      "accuracy score corresponding to the random state 76 is 0.753731343283582\n",
      "accuracy score corresponding to the random state 77 is 0.7288557213930348\n",
      "accuracy score corresponding to the random state 78 is 0.7412935323383084\n",
      "accuracy score corresponding to the random state 79 is 0.7139303482587065\n",
      "accuracy score corresponding to the random state 80 is 0.7562189054726368\n",
      "accuracy score corresponding to the random state 81 is 0.7338308457711443\n",
      "accuracy score corresponding to the random state 82 is 0.7985074626865671\n",
      "accuracy score corresponding to the random state 83 is 0.7711442786069652\n",
      "accuracy score corresponding to the random state 84 is 0.7487562189054726\n",
      "accuracy score corresponding to the random state 85 is 0.736318407960199\n",
      "accuracy score corresponding to the random state 86 is 0.7587064676616916\n",
      "accuracy score corresponding to the random state 87 is 0.7686567164179104\n",
      "accuracy score corresponding to the random state 88 is 0.7611940298507462\n",
      "accuracy score corresponding to the random state 89 is 0.7661691542288557\n",
      "accuracy score corresponding to the random state 90 is 0.763681592039801\n",
      "accuracy score corresponding to the random state 91 is 0.7860696517412935\n",
      "accuracy score corresponding to the random state 92 is 0.7686567164179104\n",
      "accuracy score corresponding to the random state 93 is 0.753731343283582\n",
      "accuracy score corresponding to the random state 94 is 0.7736318407960199\n",
      "accuracy score corresponding to the random state 95 is 0.7437810945273632\n",
      "accuracy score corresponding to the random state 96 is 0.7860696517412935\n",
      "accuracy score corresponding to the random state 97 is 0.7835820895522388\n",
      "accuracy score corresponding to the random state 98 is 0.7562189054726368\n",
      "accuracy score corresponding to the random state 99 is 0.763681592039801\n",
      "accuracy score corresponding to the random state 100 is 0.7686567164179104\n",
      "Model used  ; MultinomialNB(alpha=1.0, class_prior=None, fit_prior=True)\n",
      "\n",
      "\n",
      "accuracy score corresponding to the random state 0 is 0.835820895522388\n",
      "accuracy score corresponding to the random state 1 is 0.8333333333333334\n",
      "accuracy score corresponding to the random state 2 is 0.845771144278607\n",
      "accuracy score corresponding to the random state 3 is 0.845771144278607\n",
      "accuracy score corresponding to the random state 4 is 0.8258706467661692\n",
      "accuracy score corresponding to the random state 5 is 0.8333333333333334\n",
      "accuracy score corresponding to the random state 6 is 0.8656716417910447\n",
      "accuracy score corresponding to the random state 7 is 0.8258706467661692\n",
      "accuracy score corresponding to the random state 8 is 0.8159203980099502\n",
      "accuracy score corresponding to the random state 9 is 0.8333333333333334\n",
      "accuracy score corresponding to the random state 10 is 0.835820895522388\n",
      "accuracy score corresponding to the random state 11 is 0.8532338308457711\n",
      "accuracy score corresponding to the random state 12 is 0.8258706467661692\n",
      "accuracy score corresponding to the random state 13 is 0.8333333333333334\n",
      "accuracy score corresponding to the random state 14 is 0.8383084577114428\n",
      "accuracy score corresponding to the random state 15 is 0.8383084577114428\n",
      "accuracy score corresponding to the random state 16 is 0.8258706467661692\n",
      "accuracy score corresponding to the random state 17 is 0.8233830845771144\n",
      "accuracy score corresponding to the random state 18 is 0.8159203980099502\n",
      "accuracy score corresponding to the random state 19 is 0.8283582089552238\n",
      "accuracy score corresponding to the random state 20 is 0.8681592039800995\n",
      "accuracy score corresponding to the random state 21 is 0.8407960199004975\n",
      "accuracy score corresponding to the random state 22 is 0.8383084577114428\n",
      "accuracy score corresponding to the random state 23 is 0.8532338308457711\n",
      "accuracy score corresponding to the random state 24 is 0.8308457711442786\n",
      "accuracy score corresponding to the random state 25 is 0.8283582089552238\n",
      "accuracy score corresponding to the random state 26 is 0.8283582089552238\n",
      "accuracy score corresponding to the random state 27 is 0.8557213930348259\n",
      "accuracy score corresponding to the random state 28 is 0.8383084577114428\n",
      "accuracy score corresponding to the random state 29 is 0.8532338308457711\n",
      "accuracy score corresponding to the random state 30 is 0.8606965174129353\n",
      "accuracy score corresponding to the random state 31 is 0.8134328358208955\n",
      "accuracy score corresponding to the random state 32 is 0.8308457711442786\n"
     ]
    },
    {
     "name": "stdout",
     "output_type": "stream",
     "text": [
      "accuracy score corresponding to the random state 33 is 0.8308457711442786\n",
      "accuracy score corresponding to the random state 34 is 0.8582089552238806\n",
      "accuracy score corresponding to the random state 35 is 0.8059701492537313\n",
      "accuracy score corresponding to the random state 36 is 0.8134328358208955\n",
      "accuracy score corresponding to the random state 37 is 0.8407960199004975\n",
      "accuracy score corresponding to the random state 38 is 0.7960199004975125\n",
      "accuracy score corresponding to the random state 39 is 0.818407960199005\n",
      "accuracy score corresponding to the random state 40 is 0.8233830845771144\n",
      "accuracy score corresponding to the random state 41 is 0.8208955223880597\n",
      "accuracy score corresponding to the random state 42 is 0.835820895522388\n",
      "accuracy score corresponding to the random state 43 is 0.8134328358208955\n",
      "accuracy score corresponding to the random state 44 is 0.8557213930348259\n",
      "accuracy score corresponding to the random state 45 is 0.8333333333333334\n",
      "accuracy score corresponding to the random state 46 is 0.8208955223880597\n",
      "accuracy score corresponding to the random state 47 is 0.845771144278607\n",
      "accuracy score corresponding to the random state 48 is 0.8258706467661692\n",
      "accuracy score corresponding to the random state 49 is 0.8308457711442786\n",
      "accuracy score corresponding to the random state 50 is 0.8333333333333334\n",
      "accuracy score corresponding to the random state 51 is 0.8656716417910447\n",
      "accuracy score corresponding to the random state 52 is 0.835820895522388\n",
      "accuracy score corresponding to the random state 53 is 0.8084577114427861\n",
      "accuracy score corresponding to the random state 54 is 0.7860696517412935\n",
      "accuracy score corresponding to the random state 55 is 0.8208955223880597\n",
      "accuracy score corresponding to the random state 56 is 0.8159203980099502\n",
      "accuracy score corresponding to the random state 57 is 0.8283582089552238\n",
      "accuracy score corresponding to the random state 58 is 0.8383084577114428\n",
      "accuracy score corresponding to the random state 59 is 0.8582089552238806\n",
      "accuracy score corresponding to the random state 60 is 0.8308457711442786\n",
      "accuracy score corresponding to the random state 61 is 0.8208955223880597\n",
      "accuracy score corresponding to the random state 62 is 0.7960199004975125\n",
      "accuracy score corresponding to the random state 63 is 0.8308457711442786\n",
      "accuracy score corresponding to the random state 64 is 0.8283582089552238\n",
      "accuracy score corresponding to the random state 65 is 0.845771144278607\n",
      "accuracy score corresponding to the random state 66 is 0.8631840796019901\n",
      "accuracy score corresponding to the random state 67 is 0.845771144278607\n",
      "accuracy score corresponding to the random state 68 is 0.835820895522388\n",
      "accuracy score corresponding to the random state 69 is 0.8482587064676617\n",
      "accuracy score corresponding to the random state 70 is 0.7960199004975125\n",
      "accuracy score corresponding to the random state 71 is 0.7885572139303483\n",
      "accuracy score corresponding to the random state 72 is 0.8557213930348259\n",
      "accuracy score corresponding to the random state 73 is 0.8159203980099502\n",
      "accuracy score corresponding to the random state 74 is 0.8333333333333334\n",
      "accuracy score corresponding to the random state 75 is 0.8706467661691543\n",
      "accuracy score corresponding to the random state 76 is 0.8333333333333334\n",
      "accuracy score corresponding to the random state 77 is 0.8283582089552238\n",
      "accuracy score corresponding to the random state 78 is 0.7910447761194029\n",
      "accuracy score corresponding to the random state 79 is 0.8109452736318408\n",
      "accuracy score corresponding to the random state 80 is 0.8233830845771144\n",
      "accuracy score corresponding to the random state 81 is 0.8308457711442786\n",
      "accuracy score corresponding to the random state 82 is 0.8258706467661692\n",
      "accuracy score corresponding to the random state 83 is 0.845771144278607\n",
      "accuracy score corresponding to the random state 84 is 0.8407960199004975\n",
      "accuracy score corresponding to the random state 85 is 0.8407960199004975\n",
      "accuracy score corresponding to the random state 86 is 0.8383084577114428\n",
      "accuracy score corresponding to the random state 87 is 0.8432835820895522\n",
      "accuracy score corresponding to the random state 88 is 0.835820895522388\n",
      "accuracy score corresponding to the random state 89 is 0.845771144278607\n",
      "accuracy score corresponding to the random state 90 is 0.8283582089552238\n",
      "accuracy score corresponding to the random state 91 is 0.8333333333333334\n",
      "accuracy score corresponding to the random state 92 is 0.8333333333333334\n",
      "accuracy score corresponding to the random state 93 is 0.8631840796019901\n",
      "accuracy score corresponding to the random state 94 is 0.8233830845771144\n",
      "accuracy score corresponding to the random state 95 is 0.8333333333333334\n",
      "accuracy score corresponding to the random state 96 is 0.8507462686567164\n",
      "accuracy score corresponding to the random state 97 is 0.8407960199004975\n",
      "accuracy score corresponding to the random state 98 is 0.8159203980099502\n",
      "accuracy score corresponding to the random state 99 is 0.8233830845771144\n",
      "accuracy score corresponding to the random state 100 is 0.8532338308457711\n",
      "Model used  ; SVC(C=1.0, cache_size=200, class_weight=None, coef0=0.0,\n",
      "    decision_function_shape='ovr', degree=3, gamma='auto_deprecated',\n",
      "    kernel='rbf', max_iter=-1, probability=False, random_state=None,\n",
      "    shrinking=True, tol=0.001, verbose=False)\n",
      "\n",
      "\n",
      "accuracy score corresponding to the random state 0 is 1.0\n",
      "accuracy score corresponding to the random state 1 is 0.9875621890547264\n",
      "accuracy score corresponding to the random state 2 is 0.9850746268656716\n",
      "accuracy score corresponding to the random state 3 is 0.9751243781094527\n",
      "accuracy score corresponding to the random state 4 is 0.9353233830845771\n",
      "accuracy score corresponding to the random state 5 is 0.9751243781094527\n",
      "accuracy score corresponding to the random state 6 is 0.9751243781094527\n",
      "accuracy score corresponding to the random state 7 is 0.9676616915422885\n",
      "accuracy score corresponding to the random state 8 is 0.9900497512437811\n",
      "accuracy score corresponding to the random state 9 is 0.9875621890547264\n",
      "accuracy score corresponding to the random state 10 is 0.9800995024875622\n",
      "accuracy score corresponding to the random state 11 is 0.9477611940298507\n",
      "accuracy score corresponding to the random state 12 is 0.9900497512437811\n",
      "accuracy score corresponding to the random state 13 is 0.9850746268656716\n",
      "accuracy score corresponding to the random state 14 is 0.9776119402985075\n",
      "accuracy score corresponding to the random state 15 is 0.9850746268656716\n",
      "accuracy score corresponding to the random state 16 is 0.9925373134328358\n",
      "accuracy score corresponding to the random state 17 is 0.9626865671641791\n",
      "accuracy score corresponding to the random state 18 is 0.9850746268656716\n",
      "accuracy score corresponding to the random state 19 is 0.9825870646766169\n",
      "accuracy score corresponding to the random state 20 is 0.9776119402985075\n",
      "accuracy score corresponding to the random state 21 is 0.9776119402985075\n",
      "accuracy score corresponding to the random state 22 is 0.9875621890547264\n",
      "accuracy score corresponding to the random state 23 is 0.9925373134328358\n",
      "accuracy score corresponding to the random state 24 is 1.0\n",
      "accuracy score corresponding to the random state 25 is 0.972636815920398\n",
      "accuracy score corresponding to the random state 26 is 0.9825870646766169\n",
      "accuracy score corresponding to the random state 27 is 0.9751243781094527\n",
      "accuracy score corresponding to the random state 28 is 0.9900497512437811\n",
      "accuracy score corresponding to the random state 29 is 0.9900497512437811\n",
      "accuracy score corresponding to the random state 30 is 0.9825870646766169\n",
      "accuracy score corresponding to the random state 31 is 0.9900497512437811\n",
      "accuracy score corresponding to the random state 32 is 0.9800995024875622\n",
      "accuracy score corresponding to the random state 33 is 0.9900497512437811\n",
      "accuracy score corresponding to the random state 34 is 0.9800995024875622\n",
      "accuracy score corresponding to the random state 35 is 0.972636815920398\n",
      "accuracy score corresponding to the random state 36 is 0.972636815920398\n",
      "accuracy score corresponding to the random state 37 is 0.9850746268656716\n",
      "accuracy score corresponding to the random state 38 is 0.9850746268656716\n",
      "accuracy score corresponding to the random state 39 is 0.9925373134328358\n",
      "accuracy score corresponding to the random state 40 is 0.9875621890547264\n",
      "accuracy score corresponding to the random state 41 is 0.9975124378109452\n",
      "accuracy score corresponding to the random state 42 is 0.9701492537313433\n",
      "accuracy score corresponding to the random state 43 is 0.9402985074626866\n",
      "accuracy score corresponding to the random state 44 is 0.9925373134328358\n",
      "accuracy score corresponding to the random state 45 is 0.9950248756218906\n",
      "accuracy score corresponding to the random state 46 is 0.9577114427860697\n",
      "accuracy score corresponding to the random state 47 is 0.9900497512437811\n"
     ]
    },
    {
     "name": "stdout",
     "output_type": "stream",
     "text": [
      "accuracy score corresponding to the random state 48 is 0.9825870646766169\n",
      "accuracy score corresponding to the random state 49 is 0.9527363184079602\n",
      "accuracy score corresponding to the random state 50 is 0.9900497512437811\n",
      "accuracy score corresponding to the random state 51 is 0.9427860696517413\n",
      "accuracy score corresponding to the random state 52 is 0.9875621890547264\n",
      "accuracy score corresponding to the random state 53 is 0.9800995024875622\n",
      "accuracy score corresponding to the random state 54 is 0.9875621890547264\n",
      "accuracy score corresponding to the random state 55 is 0.9751243781094527\n",
      "accuracy score corresponding to the random state 56 is 0.9701492537313433\n",
      "accuracy score corresponding to the random state 57 is 1.0\n",
      "accuracy score corresponding to the random state 58 is 0.9875621890547264\n",
      "accuracy score corresponding to the random state 59 is 0.9875621890547264\n",
      "accuracy score corresponding to the random state 60 is 0.9701492537313433\n",
      "accuracy score corresponding to the random state 61 is 0.9800995024875622\n",
      "accuracy score corresponding to the random state 62 is 0.9850746268656716\n",
      "accuracy score corresponding to the random state 63 is 0.9825870646766169\n",
      "accuracy score corresponding to the random state 64 is 0.9601990049751243\n",
      "accuracy score corresponding to the random state 65 is 0.9875621890547264\n",
      "accuracy score corresponding to the random state 66 is 0.9925373134328358\n",
      "accuracy score corresponding to the random state 67 is 0.9800995024875622\n",
      "accuracy score corresponding to the random state 68 is 0.9900497512437811\n",
      "accuracy score corresponding to the random state 69 is 0.9875621890547264\n",
      "accuracy score corresponding to the random state 70 is 0.9626865671641791\n",
      "accuracy score corresponding to the random state 71 is 0.9875621890547264\n",
      "accuracy score corresponding to the random state 72 is 0.9900497512437811\n",
      "accuracy score corresponding to the random state 73 is 0.9825870646766169\n",
      "accuracy score corresponding to the random state 74 is 0.9875621890547264\n",
      "accuracy score corresponding to the random state 75 is 0.9651741293532339\n",
      "accuracy score corresponding to the random state 76 is 0.9850746268656716\n",
      "accuracy score corresponding to the random state 77 is 0.9850746268656716\n",
      "accuracy score corresponding to the random state 78 is 0.9975124378109452\n",
      "accuracy score corresponding to the random state 79 is 0.9825870646766169\n",
      "accuracy score corresponding to the random state 80 is 0.9975124378109452\n",
      "accuracy score corresponding to the random state 81 is 0.9850746268656716\n",
      "accuracy score corresponding to the random state 82 is 0.9950248756218906\n",
      "accuracy score corresponding to the random state 83 is 0.9950248756218906\n",
      "accuracy score corresponding to the random state 84 is 0.9900497512437811\n",
      "accuracy score corresponding to the random state 85 is 0.9875621890547264\n",
      "accuracy score corresponding to the random state 86 is 0.972636815920398\n",
      "accuracy score corresponding to the random state 87 is 0.9900497512437811\n",
      "accuracy score corresponding to the random state 88 is 0.9850746268656716\n",
      "accuracy score corresponding to the random state 89 is 0.9676616915422885\n",
      "accuracy score corresponding to the random state 90 is 0.9776119402985075\n",
      "accuracy score corresponding to the random state 91 is 0.9850746268656716\n",
      "accuracy score corresponding to the random state 92 is 0.9875621890547264\n",
      "accuracy score corresponding to the random state 93 is 0.9776119402985075\n",
      "accuracy score corresponding to the random state 94 is 0.9900497512437811\n",
      "accuracy score corresponding to the random state 95 is 0.9800995024875622\n",
      "accuracy score corresponding to the random state 96 is 0.9825870646766169\n",
      "accuracy score corresponding to the random state 97 is 0.9975124378109452\n",
      "accuracy score corresponding to the random state 98 is 0.9676616915422885\n",
      "accuracy score corresponding to the random state 99 is 0.9825870646766169\n",
      "accuracy score corresponding to the random state 100 is 0.9950248756218906\n",
      "Model used  ; DecisionTreeClassifier(class_weight=None, criterion='gini', max_depth=None,\n",
      "                       max_features=None, max_leaf_nodes=None,\n",
      "                       min_impurity_decrease=0.0, min_impurity_split=None,\n",
      "                       min_samples_leaf=1, min_samples_split=2,\n",
      "                       min_weight_fraction_leaf=0.0, presort=False,\n",
      "                       random_state=None, splitter='best')\n",
      "\n",
      "\n",
      "accuracy score corresponding to the random state 0 is 0.9527363184079602\n",
      "accuracy score corresponding to the random state 1 is 0.9477611940298507\n",
      "accuracy score corresponding to the random state 2 is 0.9502487562189055\n",
      "accuracy score corresponding to the random state 3 is 0.9402985074626866\n",
      "accuracy score corresponding to the random state 4 is 0.9502487562189055\n",
      "accuracy score corresponding to the random state 5 is 0.945273631840796\n",
      "accuracy score corresponding to the random state 6 is 0.9427860696517413\n",
      "accuracy score corresponding to the random state 7 is 0.9577114427860697\n",
      "accuracy score corresponding to the random state 8 is 0.9676616915422885\n",
      "accuracy score corresponding to the random state 9 is 0.945273631840796\n",
      "accuracy score corresponding to the random state 10 is 0.9676616915422885\n",
      "accuracy score corresponding to the random state 11 is 0.945273631840796\n",
      "accuracy score corresponding to the random state 12 is 0.9626865671641791\n",
      "accuracy score corresponding to the random state 13 is 0.9751243781094527\n",
      "accuracy score corresponding to the random state 14 is 0.9427860696517413\n",
      "accuracy score corresponding to the random state 15 is 0.9577114427860697\n",
      "accuracy score corresponding to the random state 16 is 0.9577114427860697\n",
      "accuracy score corresponding to the random state 17 is 0.9502487562189055\n",
      "accuracy score corresponding to the random state 18 is 0.9776119402985075\n",
      "accuracy score corresponding to the random state 19 is 0.9427860696517413\n",
      "accuracy score corresponding to the random state 20 is 0.9378109452736318\n",
      "accuracy score corresponding to the random state 21 is 0.9054726368159204\n",
      "accuracy score corresponding to the random state 22 is 0.9601990049751243\n",
      "accuracy score corresponding to the random state 23 is 0.9477611940298507\n",
      "accuracy score corresponding to the random state 24 is 0.9651741293532339\n",
      "accuracy score corresponding to the random state 25 is 0.9552238805970149\n",
      "accuracy score corresponding to the random state 26 is 0.9427860696517413\n",
      "accuracy score corresponding to the random state 27 is 0.9552238805970149\n",
      "accuracy score corresponding to the random state 28 is 0.9477611940298507\n",
      "accuracy score corresponding to the random state 29 is 0.9651741293532339\n",
      "accuracy score corresponding to the random state 30 is 0.9477611940298507\n",
      "accuracy score corresponding to the random state 31 is 0.9552238805970149\n",
      "accuracy score corresponding to the random state 32 is 0.9328358208955224\n",
      "accuracy score corresponding to the random state 33 is 0.9577114427860697\n",
      "accuracy score corresponding to the random state 34 is 0.9577114427860697\n",
      "accuracy score corresponding to the random state 35 is 0.9626865671641791\n",
      "accuracy score corresponding to the random state 36 is 0.9353233830845771\n",
      "accuracy score corresponding to the random state 37 is 0.945273631840796\n",
      "accuracy score corresponding to the random state 38 is 0.9651741293532339\n",
      "accuracy score corresponding to the random state 39 is 0.9577114427860697\n",
      "accuracy score corresponding to the random state 40 is 0.9552238805970149\n",
      "accuracy score corresponding to the random state 41 is 0.9378109452736318\n",
      "accuracy score corresponding to the random state 42 is 0.9328358208955224\n",
      "accuracy score corresponding to the random state 43 is 0.945273631840796\n",
      "accuracy score corresponding to the random state 44 is 0.9552238805970149\n",
      "accuracy score corresponding to the random state 45 is 0.9626865671641791\n",
      "accuracy score corresponding to the random state 46 is 0.945273631840796\n",
      "accuracy score corresponding to the random state 47 is 0.9502487562189055\n",
      "accuracy score corresponding to the random state 48 is 0.9527363184079602\n",
      "accuracy score corresponding to the random state 49 is 0.9552238805970149\n",
      "accuracy score corresponding to the random state 50 is 0.9502487562189055\n",
      "accuracy score corresponding to the random state 51 is 0.945273631840796\n",
      "accuracy score corresponding to the random state 52 is 0.9502487562189055\n",
      "accuracy score corresponding to the random state 53 is 0.9427860696517413\n",
      "accuracy score corresponding to the random state 54 is 0.9527363184079602\n"
     ]
    },
    {
     "name": "stdout",
     "output_type": "stream",
     "text": [
      "accuracy score corresponding to the random state 55 is 0.9104477611940298\n",
      "accuracy score corresponding to the random state 56 is 0.9402985074626866\n",
      "accuracy score corresponding to the random state 57 is 0.9601990049751243\n",
      "accuracy score corresponding to the random state 58 is 0.9378109452736318\n",
      "accuracy score corresponding to the random state 59 is 0.9502487562189055\n",
      "accuracy score corresponding to the random state 60 is 0.945273631840796\n",
      "accuracy score corresponding to the random state 61 is 0.945273631840796\n",
      "accuracy score corresponding to the random state 62 is 0.9253731343283582\n",
      "accuracy score corresponding to the random state 63 is 0.9502487562189055\n",
      "accuracy score corresponding to the random state 64 is 0.9378109452736318\n",
      "accuracy score corresponding to the random state 65 is 0.9601990049751243\n",
      "accuracy score corresponding to the random state 66 is 0.9676616915422885\n",
      "accuracy score corresponding to the random state 67 is 0.945273631840796\n",
      "accuracy score corresponding to the random state 68 is 0.9328358208955224\n",
      "accuracy score corresponding to the random state 69 is 0.9577114427860697\n",
      "accuracy score corresponding to the random state 70 is 0.9477611940298507\n",
      "accuracy score corresponding to the random state 71 is 0.9651741293532339\n",
      "accuracy score corresponding to the random state 72 is 0.9651741293532339\n",
      "accuracy score corresponding to the random state 73 is 0.9402985074626866\n",
      "accuracy score corresponding to the random state 74 is 0.9527363184079602\n",
      "accuracy score corresponding to the random state 75 is 0.9328358208955224\n",
      "accuracy score corresponding to the random state 76 is 0.9477611940298507\n",
      "accuracy score corresponding to the random state 77 is 0.9402985074626866\n",
      "accuracy score corresponding to the random state 78 is 0.9676616915422885\n",
      "accuracy score corresponding to the random state 79 is 0.9527363184079602\n",
      "accuracy score corresponding to the random state 80 is 0.9626865671641791\n",
      "accuracy score corresponding to the random state 81 is 0.9527363184079602\n",
      "accuracy score corresponding to the random state 82 is 0.9502487562189055\n",
      "accuracy score corresponding to the random state 83 is 0.9676616915422885\n",
      "accuracy score corresponding to the random state 84 is 0.9228855721393034\n",
      "accuracy score corresponding to the random state 85 is 0.9402985074626866\n",
      "accuracy score corresponding to the random state 86 is 0.9378109452736318\n",
      "accuracy score corresponding to the random state 87 is 0.9552238805970149\n",
      "accuracy score corresponding to the random state 88 is 0.9701492537313433\n",
      "accuracy score corresponding to the random state 89 is 0.9079601990049752\n",
      "accuracy score corresponding to the random state 90 is 0.9378109452736318\n",
      "accuracy score corresponding to the random state 91 is 0.9601990049751243\n",
      "accuracy score corresponding to the random state 92 is 0.972636815920398\n",
      "accuracy score corresponding to the random state 93 is 0.9427860696517413\n",
      "accuracy score corresponding to the random state 94 is 0.972636815920398\n",
      "accuracy score corresponding to the random state 95 is 0.9427860696517413\n",
      "accuracy score corresponding to the random state 96 is 0.9253731343283582\n",
      "accuracy score corresponding to the random state 97 is 0.9626865671641791\n",
      "accuracy score corresponding to the random state 98 is 0.9502487562189055\n",
      "accuracy score corresponding to the random state 99 is 0.9378109452736318\n",
      "accuracy score corresponding to the random state 100 is 0.9502487562189055\n",
      "Model used  ; RandomForestClassifier(bootstrap=True, class_weight=None, criterion='gini',\n",
      "                       max_depth=None, max_features='auto', max_leaf_nodes=None,\n",
      "                       min_impurity_decrease=0.0, min_impurity_split=None,\n",
      "                       min_samples_leaf=1, min_samples_split=2,\n",
      "                       min_weight_fraction_leaf=0.0, n_estimators=10,\n",
      "                       n_jobs=None, oob_score=False, random_state=None,\n",
      "                       verbose=0, warm_start=False)\n",
      "\n",
      "\n",
      "\n",
      "\n",
      "max acc_score corresponding to the random state  0 is 1.0\n",
      "confusion matrix corresponding to the random state 0 is [[159   3]\n",
      " [ 17 223]]\n",
      "\n",
      "\n",
      "classification report corresponding to the random state 0 is               precision    recall  f1-score   support\n",
      "\n",
      "           0       0.90      0.98      0.94       162\n",
      "           1       0.99      0.93      0.96       240\n",
      "\n",
      "    accuracy                           0.95       402\n",
      "   macro avg       0.95      0.96      0.95       402\n",
      "weighted avg       0.95      0.95      0.95       402\n",
      "\n",
      "\n",
      "\n"
     ]
    }
   ],
   "source": [
    "#here in i will apply all the basic classification algorithm in a for loop to select which algorithm performs the best\n",
    "\n",
    "max_acc_score=0\n",
    "count=range(101)\n",
    "model=[LogisticRegression(),MultinomialNB(),SVC(),DecisionTreeClassifier(),RandomForestClassifier()]\n",
    "for m in model:\n",
    "    for i in count:\n",
    "        train_x,test_x,train_y,test_y = train_test_split(x,y,test_size=.3,random_state=i)        \n",
    "        m.fit(train_x,train_y)\n",
    "        m.score(train_x,train_y)\n",
    "        pred=m.predict(test_x)\n",
    "\n",
    "        acc_score=accuracy_score(test_y,pred)\n",
    "        print(\"accuracy score corresponding to the random state\", i ,\"is\" , acc_score)\n",
    "        \n",
    "        if acc_score>max_acc_score:\n",
    "            max_acc_score = acc_score\n",
    "            final_i = i\n",
    "    print(\"Model used  ;\", m)\n",
    "    print(\"\\n\")\n",
    "print(\"\\n\")\n",
    "print(\"max acc_score corresponding to the random state \",final_i,\"is\", max_acc_score)\n",
    "print(\"confusion matrix corresponding to the random state\", final_i ,\"is\" , confusion_matrix(test_y,pred))\n",
    "print(\"\\n\")\n",
    "print(\"classification report corresponding to the random state\", final_i ,\"is\" , classification_report(test_y,pred))\n",
    "print(\"\\n\")"
   ]
  },
  {
   "cell_type": "code",
   "execution_count": 89,
   "metadata": {
    "collapsed": true
   },
   "outputs": [
    {
     "data": {
      "text/plain": [
       "array([1, 0, 1, 1, 1, 1, 1, 0, 0, 1, 1, 1, 1, 1, 1, 1, 1, 0, 0, 1, 1, 1,\n",
       "       0, 1, 1, 1, 1, 1, 1, 1, 0, 1, 1, 1, 0, 0, 0, 1, 0, 1, 0, 1, 1, 0,\n",
       "       0, 1, 1, 1, 0, 1, 1, 0, 0, 1, 0, 1, 1, 1, 0, 1, 0, 1, 0, 1, 0, 1,\n",
       "       1, 1, 0, 1, 0, 0, 0, 0, 1, 0, 1, 1, 1, 0, 0, 1, 0, 0, 1, 1, 1, 1,\n",
       "       1, 0, 1, 0, 0, 1, 1, 0, 1, 0, 0, 0, 0, 1, 0, 0, 1, 0, 1, 0, 1, 1,\n",
       "       0, 0, 1, 1, 1, 1, 1, 1, 0, 0, 1, 1, 0, 0, 1, 0, 1, 0, 1, 1, 0, 1,\n",
       "       0, 1, 1, 1, 0, 1, 0, 0, 1, 1, 1, 1, 0, 1, 0, 0, 1, 0, 0, 0, 1, 0,\n",
       "       0, 0, 1, 0, 1, 1, 0, 1, 1, 1, 1, 1, 1, 0, 0, 1, 1, 1, 0, 1, 0, 0,\n",
       "       1, 0, 0, 1, 1, 1, 1, 0, 0, 1, 1, 1, 0, 1, 0, 0, 1, 0, 0, 0, 1, 0,\n",
       "       0, 0, 1, 0, 1, 1, 1, 1, 0, 1, 0, 1, 0, 1, 1, 1, 1, 0, 1, 1, 1, 0,\n",
       "       0, 1, 0, 0, 1, 1, 1, 0, 0, 1, 0, 1, 1, 0, 0, 1, 1, 0, 1, 0, 1, 0,\n",
       "       0, 1, 0, 0, 1, 1, 0, 0, 0, 0, 1, 0, 1, 1, 1, 0, 1, 0, 0, 1, 0, 1,\n",
       "       1, 1, 0, 0, 1, 0, 1, 0, 1, 1, 1, 1, 0, 0, 0, 0, 0, 1, 1, 1, 1, 1,\n",
       "       0, 1, 1, 1, 0, 1, 0, 1, 0, 1, 1, 1, 0, 1, 1, 0, 1, 0, 1, 1, 0, 0,\n",
       "       0, 1, 1, 1, 1, 1, 1, 1, 1, 0, 1, 0, 0, 1, 0, 1, 1, 1, 1, 1, 1, 1,\n",
       "       0, 0, 1, 1, 1, 1, 0, 0, 1, 1, 0, 1, 0, 0, 1, 1, 0, 0, 0, 0, 0, 0,\n",
       "       0, 1, 0, 0, 0, 1, 1, 1, 0, 1, 0, 1, 0, 0, 0, 0, 0, 0, 1, 0, 1, 0,\n",
       "       1, 1, 1, 1, 1, 1, 1, 1, 1, 0, 0, 0, 1, 1, 0, 1, 0, 1, 1, 0, 1, 1,\n",
       "       0, 0, 0, 0, 1, 0], dtype=int64)"
      ]
     },
     "execution_count": 89,
     "metadata": {},
     "output_type": "execute_result"
    }
   ],
   "source": [
    "pred"
   ]
  },
  {
   "cell_type": "code",
   "execution_count": 95,
   "metadata": {},
   "outputs": [
    {
     "data": {
      "text/html": [
       "<div>\n",
       "<style scoped>\n",
       "    .dataframe tbody tr th:only-of-type {\n",
       "        vertical-align: middle;\n",
       "    }\n",
       "\n",
       "    .dataframe tbody tr th {\n",
       "        vertical-align: top;\n",
       "    }\n",
       "\n",
       "    .dataframe thead th {\n",
       "        text-align: right;\n",
       "    }\n",
       "</style>\n",
       "<table border=\"1\" class=\"dataframe\">\n",
       "  <thead>\n",
       "    <tr style=\"text-align: right;\">\n",
       "      <th></th>\n",
       "      <th>0</th>\n",
       "    </tr>\n",
       "  </thead>\n",
       "  <tbody>\n",
       "    <tr>\n",
       "      <th>0</th>\n",
       "      <td>1</td>\n",
       "    </tr>\n",
       "    <tr>\n",
       "      <th>1</th>\n",
       "      <td>0</td>\n",
       "    </tr>\n",
       "    <tr>\n",
       "      <th>2</th>\n",
       "      <td>1</td>\n",
       "    </tr>\n",
       "    <tr>\n",
       "      <th>3</th>\n",
       "      <td>1</td>\n",
       "    </tr>\n",
       "    <tr>\n",
       "      <th>4</th>\n",
       "      <td>1</td>\n",
       "    </tr>\n",
       "  </tbody>\n",
       "</table>\n",
       "</div>"
      ],
      "text/plain": [
       "   0\n",
       "0  1\n",
       "1  0\n",
       "2  1\n",
       "3  1\n",
       "4  1"
      ]
     },
     "execution_count": 95,
     "metadata": {},
     "output_type": "execute_result"
    }
   ],
   "source": [
    "predy=pd.DataFrame(pred)\n",
    "predy.head()"
   ]
  },
  {
   "cell_type": "code",
   "execution_count": 94,
   "metadata": {},
   "outputs": [
    {
     "data": {
      "text/plain": [
       "1    226\n",
       "0    176\n",
       "Name: 0, dtype: int64"
      ]
     },
     "execution_count": 94,
     "metadata": {},
     "output_type": "execute_result"
    }
   ],
   "source": [
    "predy[0].value_counts()\n",
    "#just checking out for the predicted data"
   ]
  },
  {
   "cell_type": "code",
   "execution_count": 101,
   "metadata": {},
   "outputs": [
    {
     "data": {
      "text/plain": [
       "1    240\n",
       "0    162\n",
       "Name: insuranceclaim, dtype: int64"
      ]
     },
     "execution_count": 101,
     "metadata": {},
     "output_type": "execute_result"
    }
   ],
   "source": [
    "test_y.value_counts()\n",
    "#comparing the values counts with the pred value counts just to see manually how accurate is the model"
   ]
  },
  {
   "cell_type": "code",
   "execution_count": 121,
   "metadata": {},
   "outputs": [
    {
     "data": {
      "text/plain": [
       "0.9925091750936212"
      ]
     },
     "execution_count": 121,
     "metadata": {},
     "output_type": "execute_result"
    }
   ],
   "source": [
    "#check for the overfitting and underfitting of the data\n",
    "dtc=DecisionTreeClassifier()\n",
    "cross_val_score(dtc,x,y,cv=10,scoring=\"accuracy\").mean()\n",
    "# we can see that the crossvalscore and our accuracy score is almost the same, so we do not need cross validation"
   ]
  },
  {
   "cell_type": "code",
   "execution_count": 122,
   "metadata": {},
   "outputs": [
    {
     "name": "stdout",
     "output_type": "stream",
     "text": [
      "The best accuracy score for the model is  1.0\n",
      "              precision    recall  f1-score   support\n",
      "\n",
      "           0       1.00      1.00      1.00       180\n",
      "           1       1.00      1.00      1.00       222\n",
      "\n",
      "    accuracy                           1.00       402\n",
      "   macro avg       1.00      1.00      1.00       402\n",
      "weighted avg       1.00      1.00      1.00       402\n",
      "\n",
      "[[180   0]\n",
      " [  0 222]]\n"
     ]
    }
   ],
   "source": [
    "#from the above model selection whe have derived that the decisiontreeclassifier is the best algorithm for our data\n",
    "\n",
    "dtc=DecisionTreeClassifier()\n",
    "train_x,test_x,train_y,test_y = train_test_split(x,y,test_size=.3,random_state=0)        \n",
    "dtc.fit(train_x,train_y)\n",
    "dtc.score(train_x,train_y)\n",
    "pred=dtc.predict(test_x)\n",
    "\n",
    "print(\"The best accuracy score for the model is \",accuracy_score(test_y,pred))\n",
    "print(classification_report(test_y,pred))\n",
    "print(confusion_matrix(test_y,pred))"
   ]
  },
  {
   "cell_type": "markdown",
   "metadata": {},
   "source": [
    "# Saving the file"
   ]
  },
  {
   "cell_type": "code",
   "execution_count": 127,
   "metadata": {},
   "outputs": [
    {
     "data": {
      "text/plain": [
       "['dtc_EVALPROJECT_2']"
      ]
     },
     "execution_count": 127,
     "metadata": {},
     "output_type": "execute_result"
    }
   ],
   "source": [
    "from sklearn.externals import joblib\n",
    "joblib.dump(dtc,\"dtc_EVALPROJECT_2\")"
   ]
  },
  {
   "cell_type": "code",
   "execution_count": null,
   "metadata": {},
   "outputs": [],
   "source": []
  }
 ],
 "metadata": {
  "kernelspec": {
   "display_name": "Python 3",
   "language": "python",
   "name": "python3"
  },
  "language_info": {
   "codemirror_mode": {
    "name": "ipython",
    "version": 3
   },
   "file_extension": ".py",
   "mimetype": "text/x-python",
   "name": "python",
   "nbconvert_exporter": "python",
   "pygments_lexer": "ipython3",
   "version": "3.7.3"
  }
 },
 "nbformat": 4,
 "nbformat_minor": 2
}
