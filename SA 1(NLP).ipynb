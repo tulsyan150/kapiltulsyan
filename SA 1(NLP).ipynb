{
 "cells": [
  {
   "cell_type": "code",
   "execution_count": 1,
   "metadata": {},
   "outputs": [],
   "source": [
    "import pandas as pd\n",
    "import numpy as np"
   ]
  },
  {
   "cell_type": "code",
   "execution_count": 2,
   "metadata": {},
   "outputs": [
    {
     "data": {
      "text/html": [
       "<div>\n",
       "<style scoped>\n",
       "    .dataframe tbody tr th:only-of-type {\n",
       "        vertical-align: middle;\n",
       "    }\n",
       "\n",
       "    .dataframe tbody tr th {\n",
       "        vertical-align: top;\n",
       "    }\n",
       "\n",
       "    .dataframe thead th {\n",
       "        text-align: right;\n",
       "    }\n",
       "</style>\n",
       "<table border=\"1\" class=\"dataframe\">\n",
       "  <thead>\n",
       "    <tr style=\"text-align: right;\">\n",
       "      <th></th>\n",
       "      <th>User_ID</th>\n",
       "      <th>Description</th>\n",
       "      <th>Browser_Used</th>\n",
       "      <th>Device_Used</th>\n",
       "      <th>Is_Response</th>\n",
       "    </tr>\n",
       "  </thead>\n",
       "  <tbody>\n",
       "    <tr>\n",
       "      <th>0</th>\n",
       "      <td>id10326</td>\n",
       "      <td>The room was kind of clean but had a VERY stro...</td>\n",
       "      <td>Edge</td>\n",
       "      <td>Mobile</td>\n",
       "      <td>not happy</td>\n",
       "    </tr>\n",
       "    <tr>\n",
       "      <th>1</th>\n",
       "      <td>id10327</td>\n",
       "      <td>I stayed at the Crown Plaza April -- - April -...</td>\n",
       "      <td>Internet Explorer</td>\n",
       "      <td>Mobile</td>\n",
       "      <td>not happy</td>\n",
       "    </tr>\n",
       "    <tr>\n",
       "      <th>2</th>\n",
       "      <td>id10328</td>\n",
       "      <td>I booked this hotel through Hotwire at the low...</td>\n",
       "      <td>Mozilla</td>\n",
       "      <td>Tablet</td>\n",
       "      <td>not happy</td>\n",
       "    </tr>\n",
       "    <tr>\n",
       "      <th>3</th>\n",
       "      <td>id10329</td>\n",
       "      <td>Stayed here with husband and sons on the way t...</td>\n",
       "      <td>InternetExplorer</td>\n",
       "      <td>Desktop</td>\n",
       "      <td>happy</td>\n",
       "    </tr>\n",
       "    <tr>\n",
       "      <th>4</th>\n",
       "      <td>id10330</td>\n",
       "      <td>My girlfriends and I stayed here to celebrate ...</td>\n",
       "      <td>Edge</td>\n",
       "      <td>Tablet</td>\n",
       "      <td>not happy</td>\n",
       "    </tr>\n",
       "  </tbody>\n",
       "</table>\n",
       "</div>"
      ],
      "text/plain": [
       "   User_ID                                        Description  \\\n",
       "0  id10326  The room was kind of clean but had a VERY stro...   \n",
       "1  id10327  I stayed at the Crown Plaza April -- - April -...   \n",
       "2  id10328  I booked this hotel through Hotwire at the low...   \n",
       "3  id10329  Stayed here with husband and sons on the way t...   \n",
       "4  id10330  My girlfriends and I stayed here to celebrate ...   \n",
       "\n",
       "        Browser_Used Device_Used Is_Response  \n",
       "0               Edge      Mobile   not happy  \n",
       "1  Internet Explorer      Mobile   not happy  \n",
       "2            Mozilla      Tablet   not happy  \n",
       "3   InternetExplorer     Desktop       happy  \n",
       "4               Edge      Tablet   not happy  "
      ]
     },
     "execution_count": 2,
     "metadata": {},
     "output_type": "execute_result"
    }
   ],
   "source": [
    "df=pd.read_csv(r\"C:\\Users\\HP\\Desktop\\PYTHON\\NLP\\ZIP NLP\\projects\\train.csv\")\n",
    "df=pd.DataFrame(data=df)\n",
    "df.head()"
   ]
  },
  {
   "cell_type": "code",
   "execution_count": 3,
   "metadata": {},
   "outputs": [
    {
     "data": {
      "text/plain": [
       "(38932, 5)"
      ]
     },
     "execution_count": 3,
     "metadata": {},
     "output_type": "execute_result"
    }
   ],
   "source": [
    "df.shape"
   ]
  },
  {
   "cell_type": "code",
   "execution_count": 4,
   "metadata": {},
   "outputs": [
    {
     "data": {
      "text/plain": [
       "User_ID         0\n",
       "Description     0\n",
       "Browser_Used    0\n",
       "Device_Used     0\n",
       "Is_Response     0\n",
       "dtype: int64"
      ]
     },
     "execution_count": 4,
     "metadata": {},
     "output_type": "execute_result"
    }
   ],
   "source": [
    "df.isnull().sum()"
   ]
  },
  {
   "cell_type": "code",
   "execution_count": 5,
   "metadata": {},
   "outputs": [
    {
     "name": "stdout",
     "output_type": "stream",
     "text": [
      "<class 'pandas.core.frame.DataFrame'>\n",
      "RangeIndex: 38932 entries, 0 to 38931\n",
      "Data columns (total 5 columns):\n",
      "User_ID         38932 non-null object\n",
      "Description     38932 non-null object\n",
      "Browser_Used    38932 non-null object\n",
      "Device_Used     38932 non-null object\n",
      "Is_Response     38932 non-null object\n",
      "dtypes: object(5)\n",
      "memory usage: 1.5+ MB\n"
     ]
    }
   ],
   "source": [
    "df.info()"
   ]
  },
  {
   "cell_type": "code",
   "execution_count": 6,
   "metadata": {},
   "outputs": [
    {
     "data": {
      "text/plain": [
       "Firefox              7367\n",
       "Edge                 7134\n",
       "Google Chrome        4659\n",
       "InternetExplorer     4588\n",
       "Mozilla Firefox      4328\n",
       "Mozilla              3092\n",
       "Chrome               2470\n",
       "IE                   2439\n",
       "Internet Explorer    2103\n",
       "Safari                390\n",
       "Opera                 362\n",
       "Name: Browser_Used, dtype: int64"
      ]
     },
     "execution_count": 6,
     "metadata": {},
     "output_type": "execute_result"
    }
   ],
   "source": [
    "df[\"Browser_Used\"].value_counts()"
   ]
  },
  {
   "cell_type": "code",
   "execution_count": 7,
   "metadata": {},
   "outputs": [
    {
     "data": {
      "text/plain": [
       "Desktop    15026\n",
       "Mobile     14976\n",
       "Tablet      8930\n",
       "Name: Device_Used, dtype: int64"
      ]
     },
     "execution_count": 7,
     "metadata": {},
     "output_type": "execute_result"
    }
   ],
   "source": [
    "df[\"Device_Used\"].value_counts()"
   ]
  },
  {
   "cell_type": "code",
   "execution_count": 8,
   "metadata": {},
   "outputs": [
    {
     "data": {
      "text/plain": [
       "happy        26521\n",
       "not happy    12411\n",
       "Name: Is_Response, dtype: int64"
      ]
     },
     "execution_count": 8,
     "metadata": {},
     "output_type": "execute_result"
    }
   ],
   "source": [
    "df[\"Is_Response\"].value_counts()"
   ]
  },
  {
   "cell_type": "markdown",
   "metadata": {},
   "source": [
    "### removing punctuations"
   ]
  },
  {
   "cell_type": "code",
   "execution_count": 9,
   "metadata": {},
   "outputs": [
    {
     "data": {
      "text/plain": [
       "'!\"#$%&\\'()*+,-./:;<=>?@[\\\\]^_`{|}~'"
      ]
     },
     "execution_count": 9,
     "metadata": {},
     "output_type": "execute_result"
    }
   ],
   "source": [
    "import string\n",
    "string.punctuation"
   ]
  },
  {
   "cell_type": "code",
   "execution_count": 10,
   "metadata": {},
   "outputs": [
    {
     "data": {
      "text/html": [
       "<div>\n",
       "<style scoped>\n",
       "    .dataframe tbody tr th:only-of-type {\n",
       "        vertical-align: middle;\n",
       "    }\n",
       "\n",
       "    .dataframe tbody tr th {\n",
       "        vertical-align: top;\n",
       "    }\n",
       "\n",
       "    .dataframe thead th {\n",
       "        text-align: right;\n",
       "    }\n",
       "</style>\n",
       "<table border=\"1\" class=\"dataframe\">\n",
       "  <thead>\n",
       "    <tr style=\"text-align: right;\">\n",
       "      <th></th>\n",
       "      <th>User_ID</th>\n",
       "      <th>Description</th>\n",
       "      <th>Browser_Used</th>\n",
       "      <th>Device_Used</th>\n",
       "      <th>Is_Response</th>\n",
       "      <th>new_description</th>\n",
       "    </tr>\n",
       "  </thead>\n",
       "  <tbody>\n",
       "    <tr>\n",
       "      <th>0</th>\n",
       "      <td>id10326</td>\n",
       "      <td>The room was kind of clean but had a VERY stro...</td>\n",
       "      <td>Edge</td>\n",
       "      <td>Mobile</td>\n",
       "      <td>not happy</td>\n",
       "      <td>the room was kind of clean but had a very stro...</td>\n",
       "    </tr>\n",
       "    <tr>\n",
       "      <th>1</th>\n",
       "      <td>id10327</td>\n",
       "      <td>I stayed at the Crown Plaza April -- - April -...</td>\n",
       "      <td>Internet Explorer</td>\n",
       "      <td>Mobile</td>\n",
       "      <td>not happy</td>\n",
       "      <td>i stayed at the crown plaza april   april   th...</td>\n",
       "    </tr>\n",
       "    <tr>\n",
       "      <th>2</th>\n",
       "      <td>id10328</td>\n",
       "      <td>I booked this hotel through Hotwire at the low...</td>\n",
       "      <td>Mozilla</td>\n",
       "      <td>Tablet</td>\n",
       "      <td>not happy</td>\n",
       "      <td>i booked this hotel through hotwire at the low...</td>\n",
       "    </tr>\n",
       "    <tr>\n",
       "      <th>3</th>\n",
       "      <td>id10329</td>\n",
       "      <td>Stayed here with husband and sons on the way t...</td>\n",
       "      <td>InternetExplorer</td>\n",
       "      <td>Desktop</td>\n",
       "      <td>happy</td>\n",
       "      <td>stayed here with husband and sons on the way t...</td>\n",
       "    </tr>\n",
       "    <tr>\n",
       "      <th>4</th>\n",
       "      <td>id10330</td>\n",
       "      <td>My girlfriends and I stayed here to celebrate ...</td>\n",
       "      <td>Edge</td>\n",
       "      <td>Tablet</td>\n",
       "      <td>not happy</td>\n",
       "      <td>my girlfriends and i stayed here to celebrate ...</td>\n",
       "    </tr>\n",
       "  </tbody>\n",
       "</table>\n",
       "</div>"
      ],
      "text/plain": [
       "   User_ID                                        Description  \\\n",
       "0  id10326  The room was kind of clean but had a VERY stro...   \n",
       "1  id10327  I stayed at the Crown Plaza April -- - April -...   \n",
       "2  id10328  I booked this hotel through Hotwire at the low...   \n",
       "3  id10329  Stayed here with husband and sons on the way t...   \n",
       "4  id10330  My girlfriends and I stayed here to celebrate ...   \n",
       "\n",
       "        Browser_Used Device_Used Is_Response  \\\n",
       "0               Edge      Mobile   not happy   \n",
       "1  Internet Explorer      Mobile   not happy   \n",
       "2            Mozilla      Tablet   not happy   \n",
       "3   InternetExplorer     Desktop       happy   \n",
       "4               Edge      Tablet   not happy   \n",
       "\n",
       "                                     new_description  \n",
       "0  the room was kind of clean but had a very stro...  \n",
       "1  i stayed at the crown plaza april   april   th...  \n",
       "2  i booked this hotel through hotwire at the low...  \n",
       "3  stayed here with husband and sons on the way t...  \n",
       "4  my girlfriends and i stayed here to celebrate ...  "
      ]
     },
     "execution_count": 10,
     "metadata": {},
     "output_type": "execute_result"
    }
   ],
   "source": [
    "def rmv_punct(text):\n",
    "    no_punct=[words for words in text if words not in string.punctuation]\n",
    "    words_wo_punct=\"\".join(no_punct)\n",
    "    return words_wo_punct\n",
    "\n",
    "df[\"new_description\"]=df[\"Description\"].apply(lambda x: rmv_punct(x.lower())) #used the lower function also, because we would be doing it later so to reduce lines i have written it here\n",
    "df.head()"
   ]
  },
  {
   "cell_type": "markdown",
   "metadata": {},
   "source": [
    "### word tokenizing\n",
    "#in the block of code below, \"\\W+\" splits all the non words characaters"
   ]
  },
  {
   "cell_type": "code",
   "execution_count": 11,
   "metadata": {},
   "outputs": [
    {
     "data": {
      "text/html": [
       "<div>\n",
       "<style scoped>\n",
       "    .dataframe tbody tr th:only-of-type {\n",
       "        vertical-align: middle;\n",
       "    }\n",
       "\n",
       "    .dataframe tbody tr th {\n",
       "        vertical-align: top;\n",
       "    }\n",
       "\n",
       "    .dataframe thead th {\n",
       "        text-align: right;\n",
       "    }\n",
       "</style>\n",
       "<table border=\"1\" class=\"dataframe\">\n",
       "  <thead>\n",
       "    <tr style=\"text-align: right;\">\n",
       "      <th></th>\n",
       "      <th>User_ID</th>\n",
       "      <th>Description</th>\n",
       "      <th>Browser_Used</th>\n",
       "      <th>Device_Used</th>\n",
       "      <th>Is_Response</th>\n",
       "      <th>new_description</th>\n",
       "      <th>new_description_with_split</th>\n",
       "    </tr>\n",
       "  </thead>\n",
       "  <tbody>\n",
       "    <tr>\n",
       "      <th>0</th>\n",
       "      <td>id10326</td>\n",
       "      <td>The room was kind of clean but had a VERY stro...</td>\n",
       "      <td>Edge</td>\n",
       "      <td>Mobile</td>\n",
       "      <td>not happy</td>\n",
       "      <td>the room was kind of clean but had a very stro...</td>\n",
       "      <td>[the, room, was, kind, of, clean, but, had, a,...</td>\n",
       "    </tr>\n",
       "    <tr>\n",
       "      <th>1</th>\n",
       "      <td>id10327</td>\n",
       "      <td>I stayed at the Crown Plaza April -- - April -...</td>\n",
       "      <td>Internet Explorer</td>\n",
       "      <td>Mobile</td>\n",
       "      <td>not happy</td>\n",
       "      <td>i stayed at the crown plaza april   april   th...</td>\n",
       "      <td>[i, stayed, at, the, crown, plaza, april, apri...</td>\n",
       "    </tr>\n",
       "    <tr>\n",
       "      <th>2</th>\n",
       "      <td>id10328</td>\n",
       "      <td>I booked this hotel through Hotwire at the low...</td>\n",
       "      <td>Mozilla</td>\n",
       "      <td>Tablet</td>\n",
       "      <td>not happy</td>\n",
       "      <td>i booked this hotel through hotwire at the low...</td>\n",
       "      <td>[i, booked, this, hotel, through, hotwire, at,...</td>\n",
       "    </tr>\n",
       "    <tr>\n",
       "      <th>3</th>\n",
       "      <td>id10329</td>\n",
       "      <td>Stayed here with husband and sons on the way t...</td>\n",
       "      <td>InternetExplorer</td>\n",
       "      <td>Desktop</td>\n",
       "      <td>happy</td>\n",
       "      <td>stayed here with husband and sons on the way t...</td>\n",
       "      <td>[stayed, here, with, husband, and, sons, on, t...</td>\n",
       "    </tr>\n",
       "    <tr>\n",
       "      <th>4</th>\n",
       "      <td>id10330</td>\n",
       "      <td>My girlfriends and I stayed here to celebrate ...</td>\n",
       "      <td>Edge</td>\n",
       "      <td>Tablet</td>\n",
       "      <td>not happy</td>\n",
       "      <td>my girlfriends and i stayed here to celebrate ...</td>\n",
       "      <td>[my, girlfriends, and, i, stayed, here, to, ce...</td>\n",
       "    </tr>\n",
       "  </tbody>\n",
       "</table>\n",
       "</div>"
      ],
      "text/plain": [
       "   User_ID                                        Description  \\\n",
       "0  id10326  The room was kind of clean but had a VERY stro...   \n",
       "1  id10327  I stayed at the Crown Plaza April -- - April -...   \n",
       "2  id10328  I booked this hotel through Hotwire at the low...   \n",
       "3  id10329  Stayed here with husband and sons on the way t...   \n",
       "4  id10330  My girlfriends and I stayed here to celebrate ...   \n",
       "\n",
       "        Browser_Used Device_Used Is_Response  \\\n",
       "0               Edge      Mobile   not happy   \n",
       "1  Internet Explorer      Mobile   not happy   \n",
       "2            Mozilla      Tablet   not happy   \n",
       "3   InternetExplorer     Desktop       happy   \n",
       "4               Edge      Tablet   not happy   \n",
       "\n",
       "                                     new_description  \\\n",
       "0  the room was kind of clean but had a very stro...   \n",
       "1  i stayed at the crown plaza april   april   th...   \n",
       "2  i booked this hotel through hotwire at the low...   \n",
       "3  stayed here with husband and sons on the way t...   \n",
       "4  my girlfriends and i stayed here to celebrate ...   \n",
       "\n",
       "                          new_description_with_split  \n",
       "0  [the, room, was, kind, of, clean, but, had, a,...  \n",
       "1  [i, stayed, at, the, crown, plaza, april, apri...  \n",
       "2  [i, booked, this, hotel, through, hotwire, at,...  \n",
       "3  [stayed, here, with, husband, and, sons, on, t...  \n",
       "4  [my, girlfriends, and, i, stayed, here, to, ce...  "
      ]
     },
     "execution_count": 11,
     "metadata": {},
     "output_type": "execute_result"
    }
   ],
   "source": [
    "import re\n",
    "\n",
    "def tokenize(text):\n",
    "    split=re.split(\"\\W+\", text)\n",
    "    return split\n",
    "df[\"new_description_with_split\"]=df[\"new_description\"].apply(lambda x: tokenize(x))\n",
    "df.head()"
   ]
  },
  {
   "cell_type": "markdown",
   "metadata": {},
   "source": [
    "### STOP_WORDS\n",
    "\n",
    " Now, we have a list of words without any punctuation.\n",
    "#Let’s go ahead and remove the stop words. \n",
    "#Stop words are irrelevant words that won’t help in identifying a text as real or fake. \n",
    "#We will use “nltk” library for stop-words"
   ]
  },
  {
   "cell_type": "code",
   "execution_count": 12,
   "metadata": {},
   "outputs": [
    {
     "name": "stderr",
     "output_type": "stream",
     "text": [
      "[nltk_data] Downloading package stopwords to\n",
      "[nltk_data]     C:\\Users\\HP\\AppData\\Roaming\\nltk_data...\n",
      "[nltk_data]   Package stopwords is already up-to-date!\n"
     ]
    },
    {
     "data": {
      "text/plain": [
       "True"
      ]
     },
     "execution_count": 12,
     "metadata": {},
     "output_type": "execute_result"
    }
   ],
   "source": [
    "import nltk\n",
    "nltk.download(\"stopwords\")"
   ]
  },
  {
   "cell_type": "code",
   "execution_count": 13,
   "metadata": {},
   "outputs": [
    {
     "name": "stdout",
     "output_type": "stream",
     "text": [
      "{'yourself', 'of', 'shan', 'under', 're', 'i', 'hers', 't', 'she', 'against', 's', \"should've\", 'being', \"hasn't\", \"it's\", 've', 'her', 'when', 'these', 'they', 'whom', 'needn', 'few', 'mightn', \"you'll\", \"couldn't\", 'be', 'there', 'y', 'them', 'about', 'we', 'by', 'its', 'no', \"shan't\", \"mustn't\", 'm', 'shouldn', \"hadn't\", 'wouldn', \"mightn't\", 'isn', \"she's\", 'he', 'doing', 'not', 'ain', 'as', \"you're\", 'but', 'because', \"weren't\", \"didn't\", 'll', 'each', 'why', 'such', 'aren', \"that'll\", 'it', 'other', 'for', 'between', 'should', \"don't\", 'just', 'here', 'yours', 'do', 'me', 'has', 'at', 'than', 'an', 'are', 'now', 'him', 'had', 'some', 'his', \"needn't\", 'what', 'wasn', 'ourselves', 'to', \"shouldn't\", 'more', 'too', 'or', 'o', 'd', 'doesn', 'only', 'out', \"wouldn't\", 'this', 'until', 'above', 'through', 'after', 'don', 'couldn', 'haven', 'then', 'mustn', 'didn', \"aren't\", 'on', 'once', 'ours', 'theirs', 'off', 'from', 'so', 'ma', \"won't\", 'those', 'into', 'before', 'in', \"isn't\", \"you've\", 'up', 'will', 'both', 'over', 'very', 'how', 'if', 'hadn', 'same', 'were', 'all', 'your', 'am', 'does', \"you'd\", 'won', 'can', 'was', 'myself', 'their', 'during', \"doesn't\", 'with', 'below', 'yourselves', 'been', 'our', 'again', 'further', \"wasn't\", 'where', 'did', 'have', 'you', 'own', 'down', 'hasn', 'themselves', 'himself', 'nor', 'which', \"haven't\", 'a', 'having', 'itself', 'and', 'the', 'while', 'herself', 'is', 'any', 'that', 'most', 'my', 'who', 'weren'}\n"
     ]
    }
   ],
   "source": [
    "stopword=set(nltk.corpus.stopwords.words(\"english\"))\n",
    "print(stopword)"
   ]
  },
  {
   "cell_type": "code",
   "execution_count": 14,
   "metadata": {
    "scrolled": true
   },
   "outputs": [
    {
     "data": {
      "text/html": [
       "<div>\n",
       "<style scoped>\n",
       "    .dataframe tbody tr th:only-of-type {\n",
       "        vertical-align: middle;\n",
       "    }\n",
       "\n",
       "    .dataframe tbody tr th {\n",
       "        vertical-align: top;\n",
       "    }\n",
       "\n",
       "    .dataframe thead th {\n",
       "        text-align: right;\n",
       "    }\n",
       "</style>\n",
       "<table border=\"1\" class=\"dataframe\">\n",
       "  <thead>\n",
       "    <tr style=\"text-align: right;\">\n",
       "      <th></th>\n",
       "      <th>User_ID</th>\n",
       "      <th>Description</th>\n",
       "      <th>Browser_Used</th>\n",
       "      <th>Device_Used</th>\n",
       "      <th>Is_Response</th>\n",
       "      <th>new_description</th>\n",
       "      <th>new_description_with_split</th>\n",
       "      <th>new_description_with_split_stopwords</th>\n",
       "    </tr>\n",
       "  </thead>\n",
       "  <tbody>\n",
       "    <tr>\n",
       "      <th>0</th>\n",
       "      <td>id10326</td>\n",
       "      <td>The room was kind of clean but had a VERY stro...</td>\n",
       "      <td>Edge</td>\n",
       "      <td>Mobile</td>\n",
       "      <td>not happy</td>\n",
       "      <td>the room was kind of clean but had a very stro...</td>\n",
       "      <td>[the, room, was, kind, of, clean, but, had, a,...</td>\n",
       "      <td>[room, kind, clean, strong, smell, dogs, gener...</td>\n",
       "    </tr>\n",
       "    <tr>\n",
       "      <th>1</th>\n",
       "      <td>id10327</td>\n",
       "      <td>I stayed at the Crown Plaza April -- - April -...</td>\n",
       "      <td>Internet Explorer</td>\n",
       "      <td>Mobile</td>\n",
       "      <td>not happy</td>\n",
       "      <td>i stayed at the crown plaza april   april   th...</td>\n",
       "      <td>[i, stayed, at, the, crown, plaza, april, apri...</td>\n",
       "      <td>[stayed, crown, plaza, april, april, staff, fr...</td>\n",
       "    </tr>\n",
       "    <tr>\n",
       "      <th>2</th>\n",
       "      <td>id10328</td>\n",
       "      <td>I booked this hotel through Hotwire at the low...</td>\n",
       "      <td>Mozilla</td>\n",
       "      <td>Tablet</td>\n",
       "      <td>not happy</td>\n",
       "      <td>i booked this hotel through hotwire at the low...</td>\n",
       "      <td>[i, booked, this, hotel, through, hotwire, at,...</td>\n",
       "      <td>[booked, hotel, hotwire, lowest, price, could,...</td>\n",
       "    </tr>\n",
       "    <tr>\n",
       "      <th>3</th>\n",
       "      <td>id10329</td>\n",
       "      <td>Stayed here with husband and sons on the way t...</td>\n",
       "      <td>InternetExplorer</td>\n",
       "      <td>Desktop</td>\n",
       "      <td>happy</td>\n",
       "      <td>stayed here with husband and sons on the way t...</td>\n",
       "      <td>[stayed, here, with, husband, and, sons, on, t...</td>\n",
       "      <td>[stayed, husband, sons, way, alaska, cruise, l...</td>\n",
       "    </tr>\n",
       "    <tr>\n",
       "      <th>4</th>\n",
       "      <td>id10330</td>\n",
       "      <td>My girlfriends and I stayed here to celebrate ...</td>\n",
       "      <td>Edge</td>\n",
       "      <td>Tablet</td>\n",
       "      <td>not happy</td>\n",
       "      <td>my girlfriends and i stayed here to celebrate ...</td>\n",
       "      <td>[my, girlfriends, and, i, stayed, here, to, ce...</td>\n",
       "      <td>[girlfriends, stayed, celebrate, th, birthdays...</td>\n",
       "    </tr>\n",
       "  </tbody>\n",
       "</table>\n",
       "</div>"
      ],
      "text/plain": [
       "   User_ID                                        Description  \\\n",
       "0  id10326  The room was kind of clean but had a VERY stro...   \n",
       "1  id10327  I stayed at the Crown Plaza April -- - April -...   \n",
       "2  id10328  I booked this hotel through Hotwire at the low...   \n",
       "3  id10329  Stayed here with husband and sons on the way t...   \n",
       "4  id10330  My girlfriends and I stayed here to celebrate ...   \n",
       "\n",
       "        Browser_Used Device_Used Is_Response  \\\n",
       "0               Edge      Mobile   not happy   \n",
       "1  Internet Explorer      Mobile   not happy   \n",
       "2            Mozilla      Tablet   not happy   \n",
       "3   InternetExplorer     Desktop       happy   \n",
       "4               Edge      Tablet   not happy   \n",
       "\n",
       "                                     new_description  \\\n",
       "0  the room was kind of clean but had a very stro...   \n",
       "1  i stayed at the crown plaza april   april   th...   \n",
       "2  i booked this hotel through hotwire at the low...   \n",
       "3  stayed here with husband and sons on the way t...   \n",
       "4  my girlfriends and i stayed here to celebrate ...   \n",
       "\n",
       "                          new_description_with_split  \\\n",
       "0  [the, room, was, kind, of, clean, but, had, a,...   \n",
       "1  [i, stayed, at, the, crown, plaza, april, apri...   \n",
       "2  [i, booked, this, hotel, through, hotwire, at,...   \n",
       "3  [stayed, here, with, husband, and, sons, on, t...   \n",
       "4  [my, girlfriends, and, i, stayed, here, to, ce...   \n",
       "\n",
       "                new_description_with_split_stopwords  \n",
       "0  [room, kind, clean, strong, smell, dogs, gener...  \n",
       "1  [stayed, crown, plaza, april, april, staff, fr...  \n",
       "2  [booked, hotel, hotwire, lowest, price, could,...  \n",
       "3  [stayed, husband, sons, way, alaska, cruise, l...  \n",
       "4  [girlfriends, stayed, celebrate, th, birthdays...  "
      ]
     },
     "execution_count": 14,
     "metadata": {},
     "output_type": "execute_result"
    }
   ],
   "source": [
    "#now lets create a function which will remove the stopwords \n",
    "\n",
    "def rmv_stopwords(text):\n",
    "    text=[words for words in text if words not in stopword]\n",
    "    return text\n",
    "\n",
    "df[\"new_description_with_split_stopwords\"]=df[\"new_description_with_split\"].apply(lambda x: rmv_stopwords(x))\n",
    "df.head()"
   ]
  },
  {
   "cell_type": "markdown",
   "metadata": {},
   "source": [
    "### STEMMING AND LEMMATIZING"
   ]
  },
  {
   "cell_type": "code",
   "execution_count": 15,
   "metadata": {},
   "outputs": [
    {
     "name": "stderr",
     "output_type": "stream",
     "text": [
      "[nltk_data] Downloading package wordnet to\n",
      "[nltk_data]     C:\\Users\\HP\\AppData\\Roaming\\nltk_data...\n",
      "[nltk_data]   Package wordnet is already up-to-date!\n"
     ]
    },
    {
     "data": {
      "text/plain": [
       "True"
      ]
     },
     "execution_count": 15,
     "metadata": {},
     "output_type": "execute_result"
    }
   ],
   "source": [
    "from nltk.stem import WordNetLemmatizer\n",
    "nltk.download(\"wordnet\")"
   ]
  },
  {
   "cell_type": "code",
   "execution_count": 16,
   "metadata": {},
   "outputs": [],
   "source": [
    "wnl=WordNetLemmatizer()"
   ]
  },
  {
   "cell_type": "code",
   "execution_count": 17,
   "metadata": {
    "scrolled": true
   },
   "outputs": [
    {
     "data": {
      "text/html": [
       "<div>\n",
       "<style scoped>\n",
       "    .dataframe tbody tr th:only-of-type {\n",
       "        vertical-align: middle;\n",
       "    }\n",
       "\n",
       "    .dataframe tbody tr th {\n",
       "        vertical-align: top;\n",
       "    }\n",
       "\n",
       "    .dataframe thead th {\n",
       "        text-align: right;\n",
       "    }\n",
       "</style>\n",
       "<table border=\"1\" class=\"dataframe\">\n",
       "  <thead>\n",
       "    <tr style=\"text-align: right;\">\n",
       "      <th></th>\n",
       "      <th>User_ID</th>\n",
       "      <th>Description</th>\n",
       "      <th>Browser_Used</th>\n",
       "      <th>Device_Used</th>\n",
       "      <th>Is_Response</th>\n",
       "      <th>new_description</th>\n",
       "      <th>new_description_with_split</th>\n",
       "      <th>new_description_with_split_stopwords</th>\n",
       "      <th>new_description_with_split_stopwords_lemma</th>\n",
       "    </tr>\n",
       "  </thead>\n",
       "  <tbody>\n",
       "    <tr>\n",
       "      <th>0</th>\n",
       "      <td>id10326</td>\n",
       "      <td>The room was kind of clean but had a VERY stro...</td>\n",
       "      <td>Edge</td>\n",
       "      <td>Mobile</td>\n",
       "      <td>not happy</td>\n",
       "      <td>the room was kind of clean but had a very stro...</td>\n",
       "      <td>[the, room, was, kind, of, clean, but, had, a,...</td>\n",
       "      <td>[room, kind, clean, strong, smell, dogs, gener...</td>\n",
       "      <td>[room, kind, clean, strong, smell, dog, genera...</td>\n",
       "    </tr>\n",
       "    <tr>\n",
       "      <th>1</th>\n",
       "      <td>id10327</td>\n",
       "      <td>I stayed at the Crown Plaza April -- - April -...</td>\n",
       "      <td>Internet Explorer</td>\n",
       "      <td>Mobile</td>\n",
       "      <td>not happy</td>\n",
       "      <td>i stayed at the crown plaza april   april   th...</td>\n",
       "      <td>[i, stayed, at, the, crown, plaza, april, apri...</td>\n",
       "      <td>[stayed, crown, plaza, april, april, staff, fr...</td>\n",
       "      <td>[stayed, crown, plaza, april, april, staff, fr...</td>\n",
       "    </tr>\n",
       "    <tr>\n",
       "      <th>2</th>\n",
       "      <td>id10328</td>\n",
       "      <td>I booked this hotel through Hotwire at the low...</td>\n",
       "      <td>Mozilla</td>\n",
       "      <td>Tablet</td>\n",
       "      <td>not happy</td>\n",
       "      <td>i booked this hotel through hotwire at the low...</td>\n",
       "      <td>[i, booked, this, hotel, through, hotwire, at,...</td>\n",
       "      <td>[booked, hotel, hotwire, lowest, price, could,...</td>\n",
       "      <td>[booked, hotel, hotwire, lowest, price, could,...</td>\n",
       "    </tr>\n",
       "    <tr>\n",
       "      <th>3</th>\n",
       "      <td>id10329</td>\n",
       "      <td>Stayed here with husband and sons on the way t...</td>\n",
       "      <td>InternetExplorer</td>\n",
       "      <td>Desktop</td>\n",
       "      <td>happy</td>\n",
       "      <td>stayed here with husband and sons on the way t...</td>\n",
       "      <td>[stayed, here, with, husband, and, sons, on, t...</td>\n",
       "      <td>[stayed, husband, sons, way, alaska, cruise, l...</td>\n",
       "      <td>[stayed, husband, son, way, alaska, cruise, lo...</td>\n",
       "    </tr>\n",
       "    <tr>\n",
       "      <th>4</th>\n",
       "      <td>id10330</td>\n",
       "      <td>My girlfriends and I stayed here to celebrate ...</td>\n",
       "      <td>Edge</td>\n",
       "      <td>Tablet</td>\n",
       "      <td>not happy</td>\n",
       "      <td>my girlfriends and i stayed here to celebrate ...</td>\n",
       "      <td>[my, girlfriends, and, i, stayed, here, to, ce...</td>\n",
       "      <td>[girlfriends, stayed, celebrate, th, birthdays...</td>\n",
       "      <td>[girlfriend, stayed, celebrate, th, birthday, ...</td>\n",
       "    </tr>\n",
       "  </tbody>\n",
       "</table>\n",
       "</div>"
      ],
      "text/plain": [
       "   User_ID                                        Description  \\\n",
       "0  id10326  The room was kind of clean but had a VERY stro...   \n",
       "1  id10327  I stayed at the Crown Plaza April -- - April -...   \n",
       "2  id10328  I booked this hotel through Hotwire at the low...   \n",
       "3  id10329  Stayed here with husband and sons on the way t...   \n",
       "4  id10330  My girlfriends and I stayed here to celebrate ...   \n",
       "\n",
       "        Browser_Used Device_Used Is_Response  \\\n",
       "0               Edge      Mobile   not happy   \n",
       "1  Internet Explorer      Mobile   not happy   \n",
       "2            Mozilla      Tablet   not happy   \n",
       "3   InternetExplorer     Desktop       happy   \n",
       "4               Edge      Tablet   not happy   \n",
       "\n",
       "                                     new_description  \\\n",
       "0  the room was kind of clean but had a very stro...   \n",
       "1  i stayed at the crown plaza april   april   th...   \n",
       "2  i booked this hotel through hotwire at the low...   \n",
       "3  stayed here with husband and sons on the way t...   \n",
       "4  my girlfriends and i stayed here to celebrate ...   \n",
       "\n",
       "                          new_description_with_split  \\\n",
       "0  [the, room, was, kind, of, clean, but, had, a,...   \n",
       "1  [i, stayed, at, the, crown, plaza, april, apri...   \n",
       "2  [i, booked, this, hotel, through, hotwire, at,...   \n",
       "3  [stayed, here, with, husband, and, sons, on, t...   \n",
       "4  [my, girlfriends, and, i, stayed, here, to, ce...   \n",
       "\n",
       "                new_description_with_split_stopwords  \\\n",
       "0  [room, kind, clean, strong, smell, dogs, gener...   \n",
       "1  [stayed, crown, plaza, april, april, staff, fr...   \n",
       "2  [booked, hotel, hotwire, lowest, price, could,...   \n",
       "3  [stayed, husband, sons, way, alaska, cruise, l...   \n",
       "4  [girlfriends, stayed, celebrate, th, birthdays...   \n",
       "\n",
       "          new_description_with_split_stopwords_lemma  \n",
       "0  [room, kind, clean, strong, smell, dog, genera...  \n",
       "1  [stayed, crown, plaza, april, april, staff, fr...  \n",
       "2  [booked, hotel, hotwire, lowest, price, could,...  \n",
       "3  [stayed, husband, son, way, alaska, cruise, lo...  \n",
       "4  [girlfriend, stayed, celebrate, th, birthday, ...  "
      ]
     },
     "execution_count": 17,
     "metadata": {},
     "output_type": "execute_result"
    }
   ],
   "source": [
    "def lemmatization(text):\n",
    "    lem_text=[wnl.lemmatize(word) for word in text]\n",
    "    return lem_text\n",
    "\n",
    "df[\"new_description_with_split_stopwords_lemma\"]=df[\"new_description_with_split_stopwords\"].apply(lambda x: lemmatization(x))\n",
    "df.head()"
   ]
  },
  {
   "cell_type": "code",
   "execution_count": 18,
   "metadata": {},
   "outputs": [
    {
     "data": {
      "text/plain": [
       "0        [room, kind, clean, strong, smell, dog, genera...\n",
       "1        [stayed, crown, plaza, april, april, staff, fr...\n",
       "2        [booked, hotel, hotwire, lowest, price, could,...\n",
       "3        [stayed, husband, son, way, alaska, cruise, lo...\n",
       "4        [girlfriend, stayed, celebrate, th, birthday, ...\n",
       "5        [room, one, nice, clearly, updated, recently, ...\n",
       "6        [husband, stayed, hotel, time, though, fancies...\n",
       "7        [wife, stayed, glorious, city, back, sf, expen...\n",
       "8        [boyfriend, stayed, fairmont, recent, trip, sa...\n",
       "9        [wonderful, staff, great, location, definately...\n",
       "10       [step, time, square, nice, room, stayed, night...\n",
       "11       [wife, kid, stayed, valentine, weekend, really...\n",
       "12       [stay, jolly, madison, xmas, period, main, fea...\n",
       "13       [highly, recommend, hawthorne, terrace, afford...\n",
       "14       [found, hotel, clean, nicely, located, good, f...\n",
       "15       [stayed, elan, th, th, october, liked, much, r...\n",
       "16       [priceline, sent, u, hotel, accepting, bid, us...\n",
       "17       [old, cheap, furnituresour, chair, simply, des...\n",
       "18       [stayed, night, really, happy, located, min, w...\n",
       "19       [service, fine, hotel, fell, way, expectation,...\n",
       "20       [stayed, many, hilton, property, expect, frien...\n",
       "21       [everything, could, want, hotel, convenient, l...\n",
       "22       [much, wanted, stay, boutique, hotel, near, ti...\n",
       "23       [really, liked, hotel, staff, wonderful, quite...\n",
       "24       [wife, spent, day, month, new, york, getaway, ...\n",
       "25       [stayed, hotel, two, night, busy, labor, day, ...\n",
       "26       [took, girl, trip, la, idea, stay, research, s...\n",
       "27       [stayed, girlfriend, long, weekend, gave, u, n...\n",
       "28       [stayed, numerous, time, never, disappointed, ...\n",
       "29       [public, area, nice, look, staff, reception, h...\n",
       "                               ...                        \n",
       "38902    [stayed, waldorf, many, time, think, get, goin...\n",
       "38903    [hotel, great, choice, staying, manhattan, boo...\n",
       "38904    [although, new, york, large, city, whenever, g...\n",
       "38905    [used, live, austin, moved, away, could, stay,...\n",
       "38906    [ive, stayed, hilton, hyatt, magnolia, club, q...\n",
       "38907    [great, locationshort, walk, amtrak, station, ...\n",
       "38908    [booked, renaissance, hotel, changed, hand, ti...\n",
       "38909    [hotel, old, style, red, roof, renovated, new,...\n",
       "38910    [admit, tried, rebooking, since, afraid, bad, ...\n",
       "38911    [room, nice, everything, seemed, pretty, new, ...\n",
       "38912    [great, place, stay, hotel, big, impersonal, l...\n",
       "38913    [never, ever, stay, hotel, stayed, week, ago, ...\n",
       "38914    [bus, hour, finally, arriving, hotel, lawerenc...\n",
       "38915    [pretty, cool, hotel, stayed, day, midjuly, bl...\n",
       "38916    [stopped, lax, way, canada, loved, staying, sh...\n",
       "38917    [love, hotel, stay, several, reason, despite, ...\n",
       "38918    [excited, stay, blu, aqua, new, hotel, downtow...\n",
       "38919    [didnt, get, see, much, seattle, hotel, good, ...\n",
       "38920    [husband, stayed, one, night, heartbreak, hote...\n",
       "38921    [staed, handlery, hotel, visit, san, diego, go...\n",
       "38922    [hotel, great, location, want, right, time, sq...\n",
       "38923    [pretty, impartial, hotel, would, definitely, ...\n",
       "38924    [booked, room, two, single, bed, upon, arrival...\n",
       "38925    [arrived, via, taxi, la, guardia, driving, th,...\n",
       "38926    [tend, post, review, exceptionally, experience...\n",
       "38927    [arrived, late, night, walked, checkin, area, ...\n",
       "38928    [positive, impression, location, public, parki...\n",
       "38929    [traveling, friend, shopping, show, location, ...\n",
       "38930    [experience, ok, paid, extra, view, pool, got,...\n",
       "38931    [westin, wonderfully, restored, grande, dame, ...\n",
       "Name: new_description_with_split_stopwords_lemma, Length: 38932, dtype: object"
      ]
     },
     "execution_count": 18,
     "metadata": {},
     "output_type": "execute_result"
    }
   ],
   "source": [
    "df[\"new_description_with_split_stopwords_lemma\"]"
   ]
  },
  {
   "cell_type": "code",
   "execution_count": 19,
   "metadata": {},
   "outputs": [
    {
     "data": {
      "text/plain": [
       "0        [room, kind, clean, strong, smell, dogs, gener...\n",
       "1        [stayed, crown, plaza, april, april, staff, fr...\n",
       "2        [booked, hotel, hotwire, lowest, price, could,...\n",
       "3        [stayed, husband, sons, way, alaska, cruise, l...\n",
       "4        [girlfriends, stayed, celebrate, th, birthdays...\n",
       "5        [rooms, one, nice, clearly, updated, recently,...\n",
       "6        [husband, stayed, hotel, times, though, fancie...\n",
       "7        [wife, stayed, glorious, city, back, sf, expen...\n",
       "8        [boyfriend, stayed, fairmont, recent, trip, sa...\n",
       "9        [wonderful, staff, great, location, definately...\n",
       "10       [steps, times, square, nice, rooms, stayed, ni...\n",
       "11       [wife, kids, stayed, valentines, weekend, real...\n",
       "12       [stay, jolly, madison, xmas, period, main, fea...\n",
       "13       [highly, recommend, hawthorne, terrace, afford...\n",
       "14       [found, hotel, clean, nicely, located, good, f...\n",
       "15       [stayed, elan, th, th, october, liked, much, r...\n",
       "16       [priceline, sent, us, hotel, accepting, bid, u...\n",
       "17       [old, cheap, furnituresour, chair, simply, des...\n",
       "18       [stayed, nights, really, happy, located, mins,...\n",
       "19       [service, fine, hotel, fell, way, expectations...\n",
       "20       [stayed, many, hilton, properties, expect, fri...\n",
       "21       [everything, could, want, hotel, convenient, l...\n",
       "22       [much, wanted, stay, boutique, hotel, near, ti...\n",
       "23       [really, liked, hotel, staff, wonderful, quite...\n",
       "24       [wife, spent, days, month, new, york, getaway,...\n",
       "25       [stayed, hotel, two, nights, busy, labor, day,...\n",
       "26       [took, girls, trip, la, idea, stay, research, ...\n",
       "27       [stayed, girlfriend, long, weekend, gave, us, ...\n",
       "28       [stayed, numerous, times, never, disappointed,...\n",
       "29       [public, areas, nice, look, staff, reception, ...\n",
       "                               ...                        \n",
       "38902    [stayed, waldorf, many, times, think, get, goi...\n",
       "38903    [hotel, great, choice, staying, manhattan, boo...\n",
       "38904    [although, new, york, large, city, whenever, g...\n",
       "38905    [used, live, austin, moved, away, could, stay,...\n",
       "38906    [ive, stayed, hilton, hyatt, magnolia, club, q...\n",
       "38907    [great, locationshort, walk, amtrak, station, ...\n",
       "38908    [booked, renaissance, hotel, changed, hands, t...\n",
       "38909    [hotel, old, style, red, roof, renovated, new,...\n",
       "38910    [admit, tried, rebooking, since, afraid, bad, ...\n",
       "38911    [room, nice, everything, seemed, pretty, new, ...\n",
       "38912    [great, place, stay, hotel, big, impersonal, l...\n",
       "38913    [never, ever, stay, hotel, stayed, weeks, ago,...\n",
       "38914    [bus, hours, finally, arriving, hotel, laweren...\n",
       "38915    [pretty, cool, hotel, stayed, days, midjuly, b...\n",
       "38916    [stopped, lax, way, canada, loved, staying, sh...\n",
       "38917    [love, hotel, stay, several, reasons, despite,...\n",
       "38918    [excited, stay, blu, aqua, new, hotel, downtow...\n",
       "38919    [didnt, get, see, much, seattle, hotel, good, ...\n",
       "38920    [husband, stayed, one, night, heartbreak, hote...\n",
       "38921    [staed, handlery, hotel, visit, san, diego, go...\n",
       "38922    [hotel, great, location, want, right, times, s...\n",
       "38923    [pretty, impartial, hotel, would, definitely, ...\n",
       "38924    [booked, room, two, single, beds, upon, arriva...\n",
       "38925    [arrived, via, taxi, la, guardia, driving, th,...\n",
       "38926    [tend, post, reviews, exceptionally, experienc...\n",
       "38927    [arrived, late, night, walked, checkin, area, ...\n",
       "38928    [positive, impression, location, public, parki...\n",
       "38929    [traveling, friends, shopping, show, location,...\n",
       "38930    [experience, ok, paid, extra, view, pool, got,...\n",
       "38931    [westin, wonderfully, restored, grande, dame, ...\n",
       "Name: new_description_with_split_stopwords, Length: 38932, dtype: object"
      ]
     },
     "execution_count": 19,
     "metadata": {},
     "output_type": "execute_result"
    }
   ],
   "source": [
    "df[\"new_description_with_split_stopwords\"]"
   ]
  },
  {
   "cell_type": "code",
   "execution_count": 20,
   "metadata": {},
   "outputs": [],
   "source": [
    "from nltk.stem import SnowballStemmer\n",
    "snowball=SnowballStemmer(\"english\")"
   ]
  },
  {
   "cell_type": "code",
   "execution_count": 21,
   "metadata": {},
   "outputs": [
    {
     "data": {
      "text/html": [
       "<div>\n",
       "<style scoped>\n",
       "    .dataframe tbody tr th:only-of-type {\n",
       "        vertical-align: middle;\n",
       "    }\n",
       "\n",
       "    .dataframe tbody tr th {\n",
       "        vertical-align: top;\n",
       "    }\n",
       "\n",
       "    .dataframe thead th {\n",
       "        text-align: right;\n",
       "    }\n",
       "</style>\n",
       "<table border=\"1\" class=\"dataframe\">\n",
       "  <thead>\n",
       "    <tr style=\"text-align: right;\">\n",
       "      <th></th>\n",
       "      <th>User_ID</th>\n",
       "      <th>Description</th>\n",
       "      <th>Browser_Used</th>\n",
       "      <th>Device_Used</th>\n",
       "      <th>Is_Response</th>\n",
       "      <th>new_description</th>\n",
       "      <th>new_description_with_split</th>\n",
       "      <th>new_description_with_split_stopwords</th>\n",
       "      <th>new_description_with_split_stopwords_lemma</th>\n",
       "      <th>new_description_with_split_stopwords_stem</th>\n",
       "    </tr>\n",
       "  </thead>\n",
       "  <tbody>\n",
       "    <tr>\n",
       "      <th>0</th>\n",
       "      <td>id10326</td>\n",
       "      <td>The room was kind of clean but had a VERY stro...</td>\n",
       "      <td>Edge</td>\n",
       "      <td>Mobile</td>\n",
       "      <td>not happy</td>\n",
       "      <td>the room was kind of clean but had a very stro...</td>\n",
       "      <td>[the, room, was, kind, of, clean, but, had, a,...</td>\n",
       "      <td>[room, kind, clean, strong, smell, dogs, gener...</td>\n",
       "      <td>[room, kind, clean, strong, smell, dog, genera...</td>\n",
       "      <td>[room, kind, clean, strong, smell, dog, genera...</td>\n",
       "    </tr>\n",
       "    <tr>\n",
       "      <th>1</th>\n",
       "      <td>id10327</td>\n",
       "      <td>I stayed at the Crown Plaza April -- - April -...</td>\n",
       "      <td>Internet Explorer</td>\n",
       "      <td>Mobile</td>\n",
       "      <td>not happy</td>\n",
       "      <td>i stayed at the crown plaza april   april   th...</td>\n",
       "      <td>[i, stayed, at, the, crown, plaza, april, apri...</td>\n",
       "      <td>[stayed, crown, plaza, april, april, staff, fr...</td>\n",
       "      <td>[stayed, crown, plaza, april, april, staff, fr...</td>\n",
       "      <td>[stay, crown, plaza, april, april, staff, frie...</td>\n",
       "    </tr>\n",
       "    <tr>\n",
       "      <th>2</th>\n",
       "      <td>id10328</td>\n",
       "      <td>I booked this hotel through Hotwire at the low...</td>\n",
       "      <td>Mozilla</td>\n",
       "      <td>Tablet</td>\n",
       "      <td>not happy</td>\n",
       "      <td>i booked this hotel through hotwire at the low...</td>\n",
       "      <td>[i, booked, this, hotel, through, hotwire, at,...</td>\n",
       "      <td>[booked, hotel, hotwire, lowest, price, could,...</td>\n",
       "      <td>[booked, hotel, hotwire, lowest, price, could,...</td>\n",
       "      <td>[book, hotel, hotwir, lowest, price, could, fi...</td>\n",
       "    </tr>\n",
       "    <tr>\n",
       "      <th>3</th>\n",
       "      <td>id10329</td>\n",
       "      <td>Stayed here with husband and sons on the way t...</td>\n",
       "      <td>InternetExplorer</td>\n",
       "      <td>Desktop</td>\n",
       "      <td>happy</td>\n",
       "      <td>stayed here with husband and sons on the way t...</td>\n",
       "      <td>[stayed, here, with, husband, and, sons, on, t...</td>\n",
       "      <td>[stayed, husband, sons, way, alaska, cruise, l...</td>\n",
       "      <td>[stayed, husband, son, way, alaska, cruise, lo...</td>\n",
       "      <td>[stay, husband, son, way, alaska, cruis, love,...</td>\n",
       "    </tr>\n",
       "    <tr>\n",
       "      <th>4</th>\n",
       "      <td>id10330</td>\n",
       "      <td>My girlfriends and I stayed here to celebrate ...</td>\n",
       "      <td>Edge</td>\n",
       "      <td>Tablet</td>\n",
       "      <td>not happy</td>\n",
       "      <td>my girlfriends and i stayed here to celebrate ...</td>\n",
       "      <td>[my, girlfriends, and, i, stayed, here, to, ce...</td>\n",
       "      <td>[girlfriends, stayed, celebrate, th, birthdays...</td>\n",
       "      <td>[girlfriend, stayed, celebrate, th, birthday, ...</td>\n",
       "      <td>[girlfriend, stay, celebr, th, birthday, plan,...</td>\n",
       "    </tr>\n",
       "  </tbody>\n",
       "</table>\n",
       "</div>"
      ],
      "text/plain": [
       "   User_ID                                        Description  \\\n",
       "0  id10326  The room was kind of clean but had a VERY stro...   \n",
       "1  id10327  I stayed at the Crown Plaza April -- - April -...   \n",
       "2  id10328  I booked this hotel through Hotwire at the low...   \n",
       "3  id10329  Stayed here with husband and sons on the way t...   \n",
       "4  id10330  My girlfriends and I stayed here to celebrate ...   \n",
       "\n",
       "        Browser_Used Device_Used Is_Response  \\\n",
       "0               Edge      Mobile   not happy   \n",
       "1  Internet Explorer      Mobile   not happy   \n",
       "2            Mozilla      Tablet   not happy   \n",
       "3   InternetExplorer     Desktop       happy   \n",
       "4               Edge      Tablet   not happy   \n",
       "\n",
       "                                     new_description  \\\n",
       "0  the room was kind of clean but had a very stro...   \n",
       "1  i stayed at the crown plaza april   april   th...   \n",
       "2  i booked this hotel through hotwire at the low...   \n",
       "3  stayed here with husband and sons on the way t...   \n",
       "4  my girlfriends and i stayed here to celebrate ...   \n",
       "\n",
       "                          new_description_with_split  \\\n",
       "0  [the, room, was, kind, of, clean, but, had, a,...   \n",
       "1  [i, stayed, at, the, crown, plaza, april, apri...   \n",
       "2  [i, booked, this, hotel, through, hotwire, at,...   \n",
       "3  [stayed, here, with, husband, and, sons, on, t...   \n",
       "4  [my, girlfriends, and, i, stayed, here, to, ce...   \n",
       "\n",
       "                new_description_with_split_stopwords  \\\n",
       "0  [room, kind, clean, strong, smell, dogs, gener...   \n",
       "1  [stayed, crown, plaza, april, april, staff, fr...   \n",
       "2  [booked, hotel, hotwire, lowest, price, could,...   \n",
       "3  [stayed, husband, sons, way, alaska, cruise, l...   \n",
       "4  [girlfriends, stayed, celebrate, th, birthdays...   \n",
       "\n",
       "          new_description_with_split_stopwords_lemma  \\\n",
       "0  [room, kind, clean, strong, smell, dog, genera...   \n",
       "1  [stayed, crown, plaza, april, april, staff, fr...   \n",
       "2  [booked, hotel, hotwire, lowest, price, could,...   \n",
       "3  [stayed, husband, son, way, alaska, cruise, lo...   \n",
       "4  [girlfriend, stayed, celebrate, th, birthday, ...   \n",
       "\n",
       "           new_description_with_split_stopwords_stem  \n",
       "0  [room, kind, clean, strong, smell, dog, genera...  \n",
       "1  [stay, crown, plaza, april, april, staff, frie...  \n",
       "2  [book, hotel, hotwir, lowest, price, could, fi...  \n",
       "3  [stay, husband, son, way, alaska, cruis, love,...  \n",
       "4  [girlfriend, stay, celebr, th, birthday, plan,...  "
      ]
     },
     "execution_count": 21,
     "metadata": {},
     "output_type": "execute_result"
    }
   ],
   "source": [
    "def snowstem(text):\n",
    "    ss=[snowball.stem(word) for word in text]\n",
    "    return ss\n",
    "\n",
    "df[\"new_description_with_split_stopwords_stem\"]=df[\"new_description_with_split_stopwords\"].apply(lambda x: snowstem(x))\n",
    "df.head()"
   ]
  },
  {
   "cell_type": "code",
   "execution_count": 22,
   "metadata": {},
   "outputs": [
    {
     "data": {
      "text/plain": [
       "0        [room, kind, clean, strong, smell, dog, genera...\n",
       "1        [stay, crown, plaza, april, april, staff, frie...\n",
       "2        [book, hotel, hotwir, lowest, price, could, fi...\n",
       "3        [stay, husband, son, way, alaska, cruis, love,...\n",
       "4        [girlfriend, stay, celebr, th, birthday, plan,...\n",
       "5        [room, one, nice, clear, updat, recent, clean,...\n",
       "6        [husband, stay, hotel, time, though, fanciest,...\n",
       "7        [wife, stay, glorious, citi, back, sf, expens,...\n",
       "8        [boyfriend, stay, fairmont, recent, trip, san,...\n",
       "9        [wonder, staff, great, locat, defin, price, hi...\n",
       "10       [step, time, squar, nice, room, stay, night, g...\n",
       "11       [wife, kid, stay, valentin, weekend, realli, n...\n",
       "12       [stay, jolli, madison, xmas, period, main, fea...\n",
       "13       [high, recommend, hawthorn, terrac, afford, co...\n",
       "14       [found, hotel, clean, nice, locat, good, free,...\n",
       "15       [stay, elan, th, th, octob, like, much, return...\n",
       "16       [pricelin, sent, us, hotel, accept, bid, usd, ...\n",
       "17       [old, cheap, furnituresour, chair, simpli, des...\n",
       "18       [stay, night, realli, happi, locat, min, walk,...\n",
       "19       [servic, fine, hotel, fell, way, expect, respe...\n",
       "20       [stay, mani, hilton, properti, expect, friend,...\n",
       "21       [everyth, could, want, hotel, conveni, locat, ...\n",
       "22       [much, want, stay, boutiqu, hotel, near, time,...\n",
       "23       [realli, like, hotel, staff, wonder, quit, hel...\n",
       "24       [wife, spent, day, month, new, york, getaway, ...\n",
       "25       [stay, hotel, two, night, busi, labor, day, we...\n",
       "26       [took, girl, trip, la, idea, stay, research, s...\n",
       "27       [stay, girlfriend, long, weekend, gave, us, ni...\n",
       "28       [stay, numer, time, never, disappoint, staff, ...\n",
       "29       [public, area, nice, look, staff, recept, help...\n",
       "                               ...                        \n",
       "38902    [stay, waldorf, mani, time, think, get, go, po...\n",
       "38903    [hotel, great, choic, stay, manhattan, book, p...\n",
       "38904    [although, new, york, larg, citi, whenev, go, ...\n",
       "38905    [use, live, austin, move, away, could, stay, h...\n",
       "38906    [ive, stay, hilton, hyatt, magnolia, club, qua...\n",
       "38907    [great, locationshort, walk, amtrak, station, ...\n",
       "38908    [book, renaiss, hotel, chang, hand, time, arri...\n",
       "38909    [hotel, old, style, red, roof, renov, new, sta...\n",
       "38910    [admit, tri, rebook, sinc, afraid, bad, review...\n",
       "38911    [room, nice, everyth, seem, pretti, new, room,...\n",
       "38912    [great, place, stay, hotel, big, imperson, lov...\n",
       "38913    [never, ever, stay, hotel, stay, week, ago, do...\n",
       "38914    [bus, hour, final, arriv, hotel, lawer, bawl, ...\n",
       "38915    [pretti, cool, hotel, stay, day, midjuli, blas...\n",
       "38916    [stop, lax, way, canada, love, stay, sheraton,...\n",
       "38917    [love, hotel, stay, sever, reason, despit, one...\n",
       "38918    [excit, stay, blu, aqua, new, hotel, downtown,...\n",
       "38919    [didnt, get, see, much, seattl, hotel, good, l...\n",
       "38920    [husband, stay, one, night, heartbreak, hotel,...\n",
       "38921    [sta, handleri, hotel, visit, san, diego, go, ...\n",
       "38922    [hotel, great, locat, want, right, time, squar...\n",
       "38923    [pretti, imparti, hotel, would, definit, never...\n",
       "38924    [book, room, two, singl, bed, upon, arriv, upg...\n",
       "38925    [arriv, via, taxi, la, guardia, drive, th, th,...\n",
       "38926    [tend, post, review, except, experi, either, g...\n",
       "38927    [arriv, late, night, walk, checkin, area, comp...\n",
       "38928    [posit, impress, locat, public, park, opposit,...\n",
       "38929    [travel, friend, shop, show, locat, great, bes...\n",
       "38930    [experi, ok, paid, extra, view, pool, got, vie...\n",
       "38931    [westin, wonder, restor, grand, dame, hotel, b...\n",
       "Name: new_description_with_split_stopwords_stem, Length: 38932, dtype: object"
      ]
     },
     "execution_count": 22,
     "metadata": {},
     "output_type": "execute_result"
    }
   ],
   "source": [
    "df.iloc[:,-1]"
   ]
  },
  {
   "cell_type": "code",
   "execution_count": 23,
   "metadata": {},
   "outputs": [
    {
     "data": {
      "text/plain": [
       "0        [room, kind, clean, strong, smell, dogs, gener...\n",
       "1        [stayed, crown, plaza, april, april, staff, fr...\n",
       "2        [booked, hotel, hotwire, lowest, price, could,...\n",
       "3        [stayed, husband, sons, way, alaska, cruise, l...\n",
       "4        [girlfriends, stayed, celebrate, th, birthdays...\n",
       "5        [rooms, one, nice, clearly, updated, recently,...\n",
       "6        [husband, stayed, hotel, times, though, fancie...\n",
       "7        [wife, stayed, glorious, city, back, sf, expen...\n",
       "8        [boyfriend, stayed, fairmont, recent, trip, sa...\n",
       "9        [wonderful, staff, great, location, definately...\n",
       "10       [steps, times, square, nice, rooms, stayed, ni...\n",
       "11       [wife, kids, stayed, valentines, weekend, real...\n",
       "12       [stay, jolly, madison, xmas, period, main, fea...\n",
       "13       [highly, recommend, hawthorne, terrace, afford...\n",
       "14       [found, hotel, clean, nicely, located, good, f...\n",
       "15       [stayed, elan, th, th, october, liked, much, r...\n",
       "16       [priceline, sent, us, hotel, accepting, bid, u...\n",
       "17       [old, cheap, furnituresour, chair, simply, des...\n",
       "18       [stayed, nights, really, happy, located, mins,...\n",
       "19       [service, fine, hotel, fell, way, expectations...\n",
       "20       [stayed, many, hilton, properties, expect, fri...\n",
       "21       [everything, could, want, hotel, convenient, l...\n",
       "22       [much, wanted, stay, boutique, hotel, near, ti...\n",
       "23       [really, liked, hotel, staff, wonderful, quite...\n",
       "24       [wife, spent, days, month, new, york, getaway,...\n",
       "25       [stayed, hotel, two, nights, busy, labor, day,...\n",
       "26       [took, girls, trip, la, idea, stay, research, ...\n",
       "27       [stayed, girlfriend, long, weekend, gave, us, ...\n",
       "28       [stayed, numerous, times, never, disappointed,...\n",
       "29       [public, areas, nice, look, staff, reception, ...\n",
       "                               ...                        \n",
       "38902    [stayed, waldorf, many, times, think, get, goi...\n",
       "38903    [hotel, great, choice, staying, manhattan, boo...\n",
       "38904    [although, new, york, large, city, whenever, g...\n",
       "38905    [used, live, austin, moved, away, could, stay,...\n",
       "38906    [ive, stayed, hilton, hyatt, magnolia, club, q...\n",
       "38907    [great, locationshort, walk, amtrak, station, ...\n",
       "38908    [booked, renaissance, hotel, changed, hands, t...\n",
       "38909    [hotel, old, style, red, roof, renovated, new,...\n",
       "38910    [admit, tried, rebooking, since, afraid, bad, ...\n",
       "38911    [room, nice, everything, seemed, pretty, new, ...\n",
       "38912    [great, place, stay, hotel, big, impersonal, l...\n",
       "38913    [never, ever, stay, hotel, stayed, weeks, ago,...\n",
       "38914    [bus, hours, finally, arriving, hotel, laweren...\n",
       "38915    [pretty, cool, hotel, stayed, days, midjuly, b...\n",
       "38916    [stopped, lax, way, canada, loved, staying, sh...\n",
       "38917    [love, hotel, stay, several, reasons, despite,...\n",
       "38918    [excited, stay, blu, aqua, new, hotel, downtow...\n",
       "38919    [didnt, get, see, much, seattle, hotel, good, ...\n",
       "38920    [husband, stayed, one, night, heartbreak, hote...\n",
       "38921    [staed, handlery, hotel, visit, san, diego, go...\n",
       "38922    [hotel, great, location, want, right, times, s...\n",
       "38923    [pretty, impartial, hotel, would, definitely, ...\n",
       "38924    [booked, room, two, single, beds, upon, arriva...\n",
       "38925    [arrived, via, taxi, la, guardia, driving, th,...\n",
       "38926    [tend, post, reviews, exceptionally, experienc...\n",
       "38927    [arrived, late, night, walked, checkin, area, ...\n",
       "38928    [positive, impression, location, public, parki...\n",
       "38929    [traveling, friends, shopping, show, location,...\n",
       "38930    [experience, ok, paid, extra, view, pool, got,...\n",
       "38931    [westin, wonderfully, restored, grande, dame, ...\n",
       "Name: new_description_with_split_stopwords, Length: 38932, dtype: object"
      ]
     },
     "execution_count": 23,
     "metadata": {},
     "output_type": "execute_result"
    }
   ],
   "source": [
    "df.iloc[:,-3]"
   ]
  },
  {
   "cell_type": "code",
   "execution_count": 24,
   "metadata": {},
   "outputs": [],
   "source": [
    "from nltk.stem import PorterStemmer\n",
    "porter=PorterStemmer()"
   ]
  },
  {
   "cell_type": "code",
   "execution_count": 25,
   "metadata": {},
   "outputs": [
    {
     "data": {
      "text/html": [
       "<div>\n",
       "<style scoped>\n",
       "    .dataframe tbody tr th:only-of-type {\n",
       "        vertical-align: middle;\n",
       "    }\n",
       "\n",
       "    .dataframe tbody tr th {\n",
       "        vertical-align: top;\n",
       "    }\n",
       "\n",
       "    .dataframe thead th {\n",
       "        text-align: right;\n",
       "    }\n",
       "</style>\n",
       "<table border=\"1\" class=\"dataframe\">\n",
       "  <thead>\n",
       "    <tr style=\"text-align: right;\">\n",
       "      <th></th>\n",
       "      <th>User_ID</th>\n",
       "      <th>Description</th>\n",
       "      <th>Browser_Used</th>\n",
       "      <th>Device_Used</th>\n",
       "      <th>Is_Response</th>\n",
       "      <th>new_description</th>\n",
       "      <th>new_description_with_split</th>\n",
       "      <th>new_description_with_split_stopwords</th>\n",
       "      <th>new_description_with_split_stopwords_lemma</th>\n",
       "      <th>new_description_with_split_stopwords_stem</th>\n",
       "      <th>new_description_with_split_stopwords_portstem</th>\n",
       "    </tr>\n",
       "  </thead>\n",
       "  <tbody>\n",
       "    <tr>\n",
       "      <th>0</th>\n",
       "      <td>id10326</td>\n",
       "      <td>The room was kind of clean but had a VERY stro...</td>\n",
       "      <td>Edge</td>\n",
       "      <td>Mobile</td>\n",
       "      <td>not happy</td>\n",
       "      <td>the room was kind of clean but had a very stro...</td>\n",
       "      <td>[the, room, was, kind, of, clean, but, had, a,...</td>\n",
       "      <td>[room, kind, clean, strong, smell, dogs, gener...</td>\n",
       "      <td>[room, kind, clean, strong, smell, dog, genera...</td>\n",
       "      <td>[room, kind, clean, strong, smell, dog, genera...</td>\n",
       "      <td>room kind clean strong smell dog gener averag ...</td>\n",
       "    </tr>\n",
       "    <tr>\n",
       "      <th>1</th>\n",
       "      <td>id10327</td>\n",
       "      <td>I stayed at the Crown Plaza April -- - April -...</td>\n",
       "      <td>Internet Explorer</td>\n",
       "      <td>Mobile</td>\n",
       "      <td>not happy</td>\n",
       "      <td>i stayed at the crown plaza april   april   th...</td>\n",
       "      <td>[i, stayed, at, the, crown, plaza, april, apri...</td>\n",
       "      <td>[stayed, crown, plaza, april, april, staff, fr...</td>\n",
       "      <td>[stayed, crown, plaza, april, april, staff, fr...</td>\n",
       "      <td>[stay, crown, plaza, april, april, staff, frie...</td>\n",
       "      <td>stay crown plaza april april staff friendli at...</td>\n",
       "    </tr>\n",
       "    <tr>\n",
       "      <th>2</th>\n",
       "      <td>id10328</td>\n",
       "      <td>I booked this hotel through Hotwire at the low...</td>\n",
       "      <td>Mozilla</td>\n",
       "      <td>Tablet</td>\n",
       "      <td>not happy</td>\n",
       "      <td>i booked this hotel through hotwire at the low...</td>\n",
       "      <td>[i, booked, this, hotel, through, hotwire, at,...</td>\n",
       "      <td>[booked, hotel, hotwire, lowest, price, could,...</td>\n",
       "      <td>[booked, hotel, hotwire, lowest, price, could,...</td>\n",
       "      <td>[book, hotel, hotwir, lowest, price, could, fi...</td>\n",
       "      <td>book hotel hotwir lowest price could find got ...</td>\n",
       "    </tr>\n",
       "    <tr>\n",
       "      <th>3</th>\n",
       "      <td>id10329</td>\n",
       "      <td>Stayed here with husband and sons on the way t...</td>\n",
       "      <td>InternetExplorer</td>\n",
       "      <td>Desktop</td>\n",
       "      <td>happy</td>\n",
       "      <td>stayed here with husband and sons on the way t...</td>\n",
       "      <td>[stayed, here, with, husband, and, sons, on, t...</td>\n",
       "      <td>[stayed, husband, sons, way, alaska, cruise, l...</td>\n",
       "      <td>[stayed, husband, son, way, alaska, cruise, lo...</td>\n",
       "      <td>[stay, husband, son, way, alaska, cruis, love,...</td>\n",
       "      <td>stay husband son way alaska cruis love hotel g...</td>\n",
       "    </tr>\n",
       "    <tr>\n",
       "      <th>4</th>\n",
       "      <td>id10330</td>\n",
       "      <td>My girlfriends and I stayed here to celebrate ...</td>\n",
       "      <td>Edge</td>\n",
       "      <td>Tablet</td>\n",
       "      <td>not happy</td>\n",
       "      <td>my girlfriends and i stayed here to celebrate ...</td>\n",
       "      <td>[my, girlfriends, and, i, stayed, here, to, ce...</td>\n",
       "      <td>[girlfriends, stayed, celebrate, th, birthdays...</td>\n",
       "      <td>[girlfriend, stayed, celebrate, th, birthday, ...</td>\n",
       "      <td>[girlfriend, stay, celebr, th, birthday, plan,...</td>\n",
       "      <td>girlfriend stay celebr th birthday plan weeken...</td>\n",
       "    </tr>\n",
       "  </tbody>\n",
       "</table>\n",
       "</div>"
      ],
      "text/plain": [
       "   User_ID                                        Description  \\\n",
       "0  id10326  The room was kind of clean but had a VERY stro...   \n",
       "1  id10327  I stayed at the Crown Plaza April -- - April -...   \n",
       "2  id10328  I booked this hotel through Hotwire at the low...   \n",
       "3  id10329  Stayed here with husband and sons on the way t...   \n",
       "4  id10330  My girlfriends and I stayed here to celebrate ...   \n",
       "\n",
       "        Browser_Used Device_Used Is_Response  \\\n",
       "0               Edge      Mobile   not happy   \n",
       "1  Internet Explorer      Mobile   not happy   \n",
       "2            Mozilla      Tablet   not happy   \n",
       "3   InternetExplorer     Desktop       happy   \n",
       "4               Edge      Tablet   not happy   \n",
       "\n",
       "                                     new_description  \\\n",
       "0  the room was kind of clean but had a very stro...   \n",
       "1  i stayed at the crown plaza april   april   th...   \n",
       "2  i booked this hotel through hotwire at the low...   \n",
       "3  stayed here with husband and sons on the way t...   \n",
       "4  my girlfriends and i stayed here to celebrate ...   \n",
       "\n",
       "                          new_description_with_split  \\\n",
       "0  [the, room, was, kind, of, clean, but, had, a,...   \n",
       "1  [i, stayed, at, the, crown, plaza, april, apri...   \n",
       "2  [i, booked, this, hotel, through, hotwire, at,...   \n",
       "3  [stayed, here, with, husband, and, sons, on, t...   \n",
       "4  [my, girlfriends, and, i, stayed, here, to, ce...   \n",
       "\n",
       "                new_description_with_split_stopwords  \\\n",
       "0  [room, kind, clean, strong, smell, dogs, gener...   \n",
       "1  [stayed, crown, plaza, april, april, staff, fr...   \n",
       "2  [booked, hotel, hotwire, lowest, price, could,...   \n",
       "3  [stayed, husband, sons, way, alaska, cruise, l...   \n",
       "4  [girlfriends, stayed, celebrate, th, birthdays...   \n",
       "\n",
       "          new_description_with_split_stopwords_lemma  \\\n",
       "0  [room, kind, clean, strong, smell, dog, genera...   \n",
       "1  [stayed, crown, plaza, april, april, staff, fr...   \n",
       "2  [booked, hotel, hotwire, lowest, price, could,...   \n",
       "3  [stayed, husband, son, way, alaska, cruise, lo...   \n",
       "4  [girlfriend, stayed, celebrate, th, birthday, ...   \n",
       "\n",
       "           new_description_with_split_stopwords_stem  \\\n",
       "0  [room, kind, clean, strong, smell, dog, genera...   \n",
       "1  [stay, crown, plaza, april, april, staff, frie...   \n",
       "2  [book, hotel, hotwir, lowest, price, could, fi...   \n",
       "3  [stay, husband, son, way, alaska, cruis, love,...   \n",
       "4  [girlfriend, stay, celebr, th, birthday, plan,...   \n",
       "\n",
       "       new_description_with_split_stopwords_portstem  \n",
       "0  room kind clean strong smell dog gener averag ...  \n",
       "1  stay crown plaza april april staff friendli at...  \n",
       "2  book hotel hotwir lowest price could find got ...  \n",
       "3  stay husband son way alaska cruis love hotel g...  \n",
       "4  girlfriend stay celebr th birthday plan weeken...  "
      ]
     },
     "execution_count": 25,
     "metadata": {},
     "output_type": "execute_result"
    }
   ],
   "source": [
    "def portstem(text):\n",
    "    ps=\" \".join([porter.stem(word) for word in text])\n",
    "    return ps\n",
    "\n",
    "df[\"new_description_with_split_stopwords_portstem\"]=df[\"new_description_with_split_stopwords\"].apply(lambda x: portstem(x))\n",
    "df.head()"
   ]
  },
  {
   "cell_type": "code",
   "execution_count": 26,
   "metadata": {},
   "outputs": [
    {
     "data": {
      "text/plain": [
       "0        room kind clean strong smell dog gener averag ...\n",
       "1        stay crown plaza april april staff friendli at...\n",
       "2        book hotel hotwir lowest price could find got ...\n",
       "3        stay husband son way alaska cruis love hotel g...\n",
       "4        girlfriend stay celebr th birthday plan weeken...\n",
       "5        room one nice clearli updat recent clean bed c...\n",
       "6        husband stay hotel time though fanciest hotel ...\n",
       "7        wife stay gloriou citi back sf expens found li...\n",
       "8        boyfriend stay fairmont recent trip san franci...\n",
       "9        wonder staff great locat defin price high stan...\n",
       "10       step time squar nice room stay night great sho...\n",
       "11       wife kid stay valentin weekend realli nice hot...\n",
       "12       stay jolli madison xma period main featur loca...\n",
       "13       highli recommend hawthorn terrac afford comfor...\n",
       "14       found hotel clean nice locat good free shuttl ...\n",
       "15       stay elan th th octob like much return day tri...\n",
       "16       pricelin sent us hotel accept bid usd night ta...\n",
       "17       old cheap furnituresour chair simpli destroyed...\n",
       "18       stay night realli happi locat min walk walk fa...\n",
       "19       servic fine hotel fell way expect respect esta...\n",
       "20       stay mani hilton properti expect friendli effi...\n",
       "21       everyth could want hotel conveni locat short w...\n",
       "22       much want stay boutiqu hotel near time squar l...\n",
       "23       realli like hotel staff wonder quit help provi...\n",
       "24       wife spent day month new york getaway vacat ch...\n",
       "25       stay hotel two night busi labor day weekend ar...\n",
       "26       took girl trip la idea stay research settl ela...\n",
       "27       stay girlfriend long weekend gave us nice comp...\n",
       "28       stay numer time never disappoint staff help ov...\n",
       "29       public area nice look staff recept help checki...\n",
       "                               ...                        \n",
       "38902    stay waldorf mani time think get go potluck fa...\n",
       "38903    hotel great choic stay manhattan book packag d...\n",
       "38904    although new york larg citi whenev go must see...\n",
       "38905    use live austin move away could stay hotel aus...\n",
       "38906    ive stay hilton hyatt magnolia club quarter ho...\n",
       "38907    great locationshort walk amtrak station link g...\n",
       "38908    book renaiss hotel chang hand time arriv june ...\n",
       "38909    hotel old style red roof renov new standard pr...\n",
       "38910    admit tri rebook sinc afraid bad review websit...\n",
       "38911    room nice everyth seem pretti new room felt cl...\n",
       "38912    great place stay hotel big imperson love frien...\n",
       "38913    never ever stay hotel stay week ago doubt seco...\n",
       "38914    bu hour final arriv hotel lawer bawl eye got r...\n",
       "38915    pretti cool hotel stay day midjuli blast barwh...\n",
       "38916    stop lax way canada love stay sheraton gateway...\n",
       "38917    love hotel stay sever reason despit one gripe ...\n",
       "38918    excit stay blu aqua new hotel downtown chicago...\n",
       "38919    didnt get see much seattl hotel good locat nea...\n",
       "38920    husband stay one night heartbreak hotel love j...\n",
       "38921    sta handleri hotel visit san diego go cruis va...\n",
       "38922    hotel great locat want right time squar theate...\n",
       "38923    pretti imparti hotel would definit never tell ...\n",
       "38924    book room two singl bed upon arriv upgrad two ...\n",
       "38925    arriv via taxi la guardia drive th th saw scaf...\n",
       "38926    tend post review except experi either good bad...\n",
       "38927    arriv late night walk checkin area complet flo...\n",
       "38928    posit impress locat public park opposit site s...\n",
       "38929    travel friend shop show locat great best say r...\n",
       "38930    experi ok paid extra view pool got view palm t...\n",
       "38931    westin wonder restor grand dame hotel bed line...\n",
       "Name: new_description_with_split_stopwords_portstem, Length: 38932, dtype: object"
      ]
     },
     "execution_count": 26,
     "metadata": {},
     "output_type": "execute_result"
    }
   ],
   "source": [
    "df.iloc[:,-1]"
   ]
  },
  {
   "cell_type": "code",
   "execution_count": 27,
   "metadata": {},
   "outputs": [],
   "source": [
    "# as we can see from the above data that stemming here is more useful that lemmatization , because lemmatization could barely\n",
    "# differentiate from the other columns , so henceforth we will dropping all those columns which will not useful in the further\n",
    "# process of our sentiment analysis"
   ]
  },
  {
   "cell_type": "code",
   "execution_count": 28,
   "metadata": {},
   "outputs": [
    {
     "data": {
      "text/plain": [
       "Index(['User_ID', 'Description', 'Browser_Used', 'Device_Used', 'Is_Response',\n",
       "       'new_description', 'new_description_with_split',\n",
       "       'new_description_with_split_stopwords',\n",
       "       'new_description_with_split_stopwords_lemma',\n",
       "       'new_description_with_split_stopwords_stem',\n",
       "       'new_description_with_split_stopwords_portstem'],\n",
       "      dtype='object')"
      ]
     },
     "execution_count": 28,
     "metadata": {},
     "output_type": "execute_result"
    }
   ],
   "source": [
    "df.columns"
   ]
  },
  {
   "cell_type": "code",
   "execution_count": 29,
   "metadata": {},
   "outputs": [
    {
     "data": {
      "text/html": [
       "<div>\n",
       "<style scoped>\n",
       "    .dataframe tbody tr th:only-of-type {\n",
       "        vertical-align: middle;\n",
       "    }\n",
       "\n",
       "    .dataframe tbody tr th {\n",
       "        vertical-align: top;\n",
       "    }\n",
       "\n",
       "    .dataframe thead th {\n",
       "        text-align: right;\n",
       "    }\n",
       "</style>\n",
       "<table border=\"1\" class=\"dataframe\">\n",
       "  <thead>\n",
       "    <tr style=\"text-align: right;\">\n",
       "      <th></th>\n",
       "      <th>User_ID</th>\n",
       "      <th>Description</th>\n",
       "      <th>Browser_Used</th>\n",
       "      <th>Device_Used</th>\n",
       "      <th>Is_Response</th>\n",
       "      <th>new_description</th>\n",
       "      <th>new_description_with_split</th>\n",
       "      <th>new_description_with_split_stopwords</th>\n",
       "      <th>new_description_with_split_stopwords_lemma</th>\n",
       "      <th>new_description_with_split_stopwords_stem</th>\n",
       "      <th>new_description_with_split_stopwords_portstem</th>\n",
       "    </tr>\n",
       "  </thead>\n",
       "  <tbody>\n",
       "    <tr>\n",
       "      <th>0</th>\n",
       "      <td>id10326</td>\n",
       "      <td>The room was kind of clean but had a VERY stro...</td>\n",
       "      <td>Edge</td>\n",
       "      <td>Mobile</td>\n",
       "      <td>not happy</td>\n",
       "      <td>the room was kind of clean but had a very stro...</td>\n",
       "      <td>[the, room, was, kind, of, clean, but, had, a,...</td>\n",
       "      <td>[room, kind, clean, strong, smell, dogs, gener...</td>\n",
       "      <td>[room, kind, clean, strong, smell, dog, genera...</td>\n",
       "      <td>[room, kind, clean, strong, smell, dog, genera...</td>\n",
       "      <td>room kind clean strong smell dog gener averag ...</td>\n",
       "    </tr>\n",
       "    <tr>\n",
       "      <th>1</th>\n",
       "      <td>id10327</td>\n",
       "      <td>I stayed at the Crown Plaza April -- - April -...</td>\n",
       "      <td>Internet Explorer</td>\n",
       "      <td>Mobile</td>\n",
       "      <td>not happy</td>\n",
       "      <td>i stayed at the crown plaza april   april   th...</td>\n",
       "      <td>[i, stayed, at, the, crown, plaza, april, apri...</td>\n",
       "      <td>[stayed, crown, plaza, april, april, staff, fr...</td>\n",
       "      <td>[stayed, crown, plaza, april, april, staff, fr...</td>\n",
       "      <td>[stay, crown, plaza, april, april, staff, frie...</td>\n",
       "      <td>stay crown plaza april april staff friendli at...</td>\n",
       "    </tr>\n",
       "    <tr>\n",
       "      <th>2</th>\n",
       "      <td>id10328</td>\n",
       "      <td>I booked this hotel through Hotwire at the low...</td>\n",
       "      <td>Mozilla</td>\n",
       "      <td>Tablet</td>\n",
       "      <td>not happy</td>\n",
       "      <td>i booked this hotel through hotwire at the low...</td>\n",
       "      <td>[i, booked, this, hotel, through, hotwire, at,...</td>\n",
       "      <td>[booked, hotel, hotwire, lowest, price, could,...</td>\n",
       "      <td>[booked, hotel, hotwire, lowest, price, could,...</td>\n",
       "      <td>[book, hotel, hotwir, lowest, price, could, fi...</td>\n",
       "      <td>book hotel hotwir lowest price could find got ...</td>\n",
       "    </tr>\n",
       "    <tr>\n",
       "      <th>3</th>\n",
       "      <td>id10329</td>\n",
       "      <td>Stayed here with husband and sons on the way t...</td>\n",
       "      <td>InternetExplorer</td>\n",
       "      <td>Desktop</td>\n",
       "      <td>happy</td>\n",
       "      <td>stayed here with husband and sons on the way t...</td>\n",
       "      <td>[stayed, here, with, husband, and, sons, on, t...</td>\n",
       "      <td>[stayed, husband, sons, way, alaska, cruise, l...</td>\n",
       "      <td>[stayed, husband, son, way, alaska, cruise, lo...</td>\n",
       "      <td>[stay, husband, son, way, alaska, cruis, love,...</td>\n",
       "      <td>stay husband son way alaska cruis love hotel g...</td>\n",
       "    </tr>\n",
       "    <tr>\n",
       "      <th>4</th>\n",
       "      <td>id10330</td>\n",
       "      <td>My girlfriends and I stayed here to celebrate ...</td>\n",
       "      <td>Edge</td>\n",
       "      <td>Tablet</td>\n",
       "      <td>not happy</td>\n",
       "      <td>my girlfriends and i stayed here to celebrate ...</td>\n",
       "      <td>[my, girlfriends, and, i, stayed, here, to, ce...</td>\n",
       "      <td>[girlfriends, stayed, celebrate, th, birthdays...</td>\n",
       "      <td>[girlfriend, stayed, celebrate, th, birthday, ...</td>\n",
       "      <td>[girlfriend, stay, celebr, th, birthday, plan,...</td>\n",
       "      <td>girlfriend stay celebr th birthday plan weeken...</td>\n",
       "    </tr>\n",
       "  </tbody>\n",
       "</table>\n",
       "</div>"
      ],
      "text/plain": [
       "   User_ID                                        Description  \\\n",
       "0  id10326  The room was kind of clean but had a VERY stro...   \n",
       "1  id10327  I stayed at the Crown Plaza April -- - April -...   \n",
       "2  id10328  I booked this hotel through Hotwire at the low...   \n",
       "3  id10329  Stayed here with husband and sons on the way t...   \n",
       "4  id10330  My girlfriends and I stayed here to celebrate ...   \n",
       "\n",
       "        Browser_Used Device_Used Is_Response  \\\n",
       "0               Edge      Mobile   not happy   \n",
       "1  Internet Explorer      Mobile   not happy   \n",
       "2            Mozilla      Tablet   not happy   \n",
       "3   InternetExplorer     Desktop       happy   \n",
       "4               Edge      Tablet   not happy   \n",
       "\n",
       "                                     new_description  \\\n",
       "0  the room was kind of clean but had a very stro...   \n",
       "1  i stayed at the crown plaza april   april   th...   \n",
       "2  i booked this hotel through hotwire at the low...   \n",
       "3  stayed here with husband and sons on the way t...   \n",
       "4  my girlfriends and i stayed here to celebrate ...   \n",
       "\n",
       "                          new_description_with_split  \\\n",
       "0  [the, room, was, kind, of, clean, but, had, a,...   \n",
       "1  [i, stayed, at, the, crown, plaza, april, apri...   \n",
       "2  [i, booked, this, hotel, through, hotwire, at,...   \n",
       "3  [stayed, here, with, husband, and, sons, on, t...   \n",
       "4  [my, girlfriends, and, i, stayed, here, to, ce...   \n",
       "\n",
       "                new_description_with_split_stopwords  \\\n",
       "0  [room, kind, clean, strong, smell, dogs, gener...   \n",
       "1  [stayed, crown, plaza, april, april, staff, fr...   \n",
       "2  [booked, hotel, hotwire, lowest, price, could,...   \n",
       "3  [stayed, husband, sons, way, alaska, cruise, l...   \n",
       "4  [girlfriends, stayed, celebrate, th, birthdays...   \n",
       "\n",
       "          new_description_with_split_stopwords_lemma  \\\n",
       "0  [room, kind, clean, strong, smell, dog, genera...   \n",
       "1  [stayed, crown, plaza, april, april, staff, fr...   \n",
       "2  [booked, hotel, hotwire, lowest, price, could,...   \n",
       "3  [stayed, husband, son, way, alaska, cruise, lo...   \n",
       "4  [girlfriend, stayed, celebrate, th, birthday, ...   \n",
       "\n",
       "           new_description_with_split_stopwords_stem  \\\n",
       "0  [room, kind, clean, strong, smell, dog, genera...   \n",
       "1  [stay, crown, plaza, april, april, staff, frie...   \n",
       "2  [book, hotel, hotwir, lowest, price, could, fi...   \n",
       "3  [stay, husband, son, way, alaska, cruis, love,...   \n",
       "4  [girlfriend, stay, celebr, th, birthday, plan,...   \n",
       "\n",
       "       new_description_with_split_stopwords_portstem  \n",
       "0  room kind clean strong smell dog gener averag ...  \n",
       "1  stay crown plaza april april staff friendli at...  \n",
       "2  book hotel hotwir lowest price could find got ...  \n",
       "3  stay husband son way alaska cruis love hotel g...  \n",
       "4  girlfriend stay celebr th birthday plan weeken...  "
      ]
     },
     "execution_count": 29,
     "metadata": {},
     "output_type": "execute_result"
    }
   ],
   "source": [
    "newdf=pd.DataFrame(data=df)\n",
    "newdf.head()"
   ]
  },
  {
   "cell_type": "code",
   "execution_count": 30,
   "metadata": {},
   "outputs": [
    {
     "data": {
      "text/html": [
       "<div>\n",
       "<style scoped>\n",
       "    .dataframe tbody tr th:only-of-type {\n",
       "        vertical-align: middle;\n",
       "    }\n",
       "\n",
       "    .dataframe tbody tr th {\n",
       "        vertical-align: top;\n",
       "    }\n",
       "\n",
       "    .dataframe thead th {\n",
       "        text-align: right;\n",
       "    }\n",
       "</style>\n",
       "<table border=\"1\" class=\"dataframe\">\n",
       "  <thead>\n",
       "    <tr style=\"text-align: right;\">\n",
       "      <th></th>\n",
       "      <th>Is_Response</th>\n",
       "      <th>new_description_with_split_stopwords_portstem</th>\n",
       "    </tr>\n",
       "  </thead>\n",
       "  <tbody>\n",
       "    <tr>\n",
       "      <th>0</th>\n",
       "      <td>not happy</td>\n",
       "      <td>room kind clean strong smell dog gener averag ...</td>\n",
       "    </tr>\n",
       "    <tr>\n",
       "      <th>1</th>\n",
       "      <td>not happy</td>\n",
       "      <td>stay crown plaza april april staff friendli at...</td>\n",
       "    </tr>\n",
       "    <tr>\n",
       "      <th>2</th>\n",
       "      <td>not happy</td>\n",
       "      <td>book hotel hotwir lowest price could find got ...</td>\n",
       "    </tr>\n",
       "    <tr>\n",
       "      <th>3</th>\n",
       "      <td>happy</td>\n",
       "      <td>stay husband son way alaska cruis love hotel g...</td>\n",
       "    </tr>\n",
       "    <tr>\n",
       "      <th>4</th>\n",
       "      <td>not happy</td>\n",
       "      <td>girlfriend stay celebr th birthday plan weeken...</td>\n",
       "    </tr>\n",
       "  </tbody>\n",
       "</table>\n",
       "</div>"
      ],
      "text/plain": [
       "  Is_Response      new_description_with_split_stopwords_portstem\n",
       "0   not happy  room kind clean strong smell dog gener averag ...\n",
       "1   not happy  stay crown plaza april april staff friendli at...\n",
       "2   not happy  book hotel hotwir lowest price could find got ...\n",
       "3       happy  stay husband son way alaska cruis love hotel g...\n",
       "4   not happy  girlfriend stay celebr th birthday plan weeken..."
      ]
     },
     "execution_count": 30,
     "metadata": {},
     "output_type": "execute_result"
    }
   ],
   "source": [
    "newdf.drop(columns=['User_ID', 'Description', 'Browser_Used', 'Device_Used',\n",
    "       'new_description', 'new_description_with_split',\n",
    "       'new_description_with_split_stopwords',\n",
    "       'new_description_with_split_stopwords_lemma',\n",
    "       'new_description_with_split_stopwords_stem'],inplace=True)\n",
    "\n",
    "newdf.head()"
   ]
  },
  {
   "cell_type": "markdown",
   "metadata": {},
   "source": [
    "### MODEL TRAINING"
   ]
  },
  {
   "cell_type": "code",
   "execution_count": 31,
   "metadata": {},
   "outputs": [],
   "source": [
    "from sklearn.model_selection import train_test_split"
   ]
  },
  {
   "cell_type": "code",
   "execution_count": 32,
   "metadata": {},
   "outputs": [],
   "source": [
    "y=newdf[\"Is_Response\"]\n",
    "x=newdf[\"new_description_with_split_stopwords_portstem\"]"
   ]
  },
  {
   "cell_type": "code",
   "execution_count": 33,
   "metadata": {},
   "outputs": [
    {
     "data": {
      "text/plain": [
       "0    not happy\n",
       "1    not happy\n",
       "2    not happy\n",
       "3        happy\n",
       "4    not happy\n",
       "Name: Is_Response, dtype: object"
      ]
     },
     "execution_count": 33,
     "metadata": {},
     "output_type": "execute_result"
    }
   ],
   "source": [
    "y.head()"
   ]
  },
  {
   "cell_type": "code",
   "execution_count": 34,
   "metadata": {},
   "outputs": [
    {
     "data": {
      "text/plain": [
       "0    room kind clean strong smell dog gener averag ...\n",
       "1    stay crown plaza april april staff friendli at...\n",
       "2    book hotel hotwir lowest price could find got ...\n",
       "3    stay husband son way alaska cruis love hotel g...\n",
       "4    girlfriend stay celebr th birthday plan weeken...\n",
       "Name: new_description_with_split_stopwords_portstem, dtype: object"
      ]
     },
     "execution_count": 34,
     "metadata": {},
     "output_type": "execute_result"
    }
   ],
   "source": [
    "x.head()"
   ]
  },
  {
   "cell_type": "code",
   "execution_count": 35,
   "metadata": {},
   "outputs": [
    {
     "name": "stdout",
     "output_type": "stream",
     "text": [
      "38902\n",
      "38902\n",
      "30\n",
      "30\n"
     ]
    }
   ],
   "source": [
    "x_train,x_test,y_train,y_test=train_test_split(x,y,test_size=30,random_state=50)\n",
    "\n",
    "print(len(x_train))\n",
    "print(len(y_train))\n",
    "print(len(x_test))\n",
    "print(len(y_test))"
   ]
  },
  {
   "cell_type": "code",
   "execution_count": 36,
   "metadata": {},
   "outputs": [],
   "source": [
    "from sklearn.feature_extraction.text import TfidfVectorizer\n",
    "from sklearn.linear_model import LogisticRegression\n",
    "from sklearn.pipeline import Pipeline\n",
    "from sklearn.metrics import confusion_matrix"
   ]
  },
  {
   "cell_type": "code",
   "execution_count": 37,
   "metadata": {},
   "outputs": [
    {
     "name": "stderr",
     "output_type": "stream",
     "text": [
      "C:\\ProgramData\\Anaconda3\\lib\\site-packages\\sklearn\\linear_model\\logistic.py:947: ConvergenceWarning: lbfgs failed to converge. Increase the number of iterations.\n",
      "  \"of iterations.\", ConvergenceWarning)\n"
     ]
    },
    {
     "data": {
      "text/plain": [
       "Pipeline(memory=None,\n",
       "         steps=[('vectorizer',\n",
       "                 TfidfVectorizer(analyzer='word', binary=False,\n",
       "                                 decode_error='strict',\n",
       "                                 dtype=<class 'numpy.float64'>,\n",
       "                                 encoding='utf-8', input='content',\n",
       "                                 lowercase=True, max_df=1.0, max_features=None,\n",
       "                                 min_df=1, ngram_range=(1, 1), norm='l2',\n",
       "                                 preprocessor=None, smooth_idf=True,\n",
       "                                 stop_words=None, strip_accents=None,\n",
       "                                 sublinear_tf=False,\n",
       "                                 token_pattern='(?u)\\\\b\\\\w\\\\w+\\\\b',\n",
       "                                 tokenizer=None, use_idf=True,\n",
       "                                 vocabulary=None)),\n",
       "                ('classifier',\n",
       "                 LogisticRegression(C=1.0, class_weight=None, dual=False,\n",
       "                                    fit_intercept=True, intercept_scaling=1,\n",
       "                                    l1_ratio=None, max_iter=100,\n",
       "                                    multi_class='warn', n_jobs=None,\n",
       "                                    penalty='l2', random_state=None,\n",
       "                                    solver='lbfgs', tol=0.0001, verbose=0,\n",
       "                                    warm_start=False))],\n",
       "         verbose=False)"
      ]
     },
     "execution_count": 37,
     "metadata": {},
     "output_type": "execute_result"
    }
   ],
   "source": [
    "tfidf=TfidfVectorizer()\n",
    "clfr= LogisticRegression(solver=\"lbfgs\")\n",
    "\n",
    "model=Pipeline([(\"vectorizer\",tfidf),(\"classifier\",clfr)])\n",
    "\n",
    "model.fit(x_train,y_train)"
   ]
  },
  {
   "cell_type": "code",
   "execution_count": 38,
   "metadata": {},
   "outputs": [],
   "source": [
    "pred=model.predict(x_test)"
   ]
  },
  {
   "cell_type": "code",
   "execution_count": 39,
   "metadata": {},
   "outputs": [
    {
     "data": {
      "text/plain": [
       "array(['happy', 'not happy', 'happy', 'happy', 'not happy', 'happy',\n",
       "       'happy', 'happy', 'happy', 'happy', 'happy', 'happy', 'happy',\n",
       "       'happy', 'happy', 'not happy', 'happy', 'not happy', 'not happy',\n",
       "       'not happy', 'happy', 'happy', 'happy', 'not happy', 'happy',\n",
       "       'happy', 'happy', 'happy', 'not happy', 'not happy'], dtype=object)"
      ]
     },
     "execution_count": 39,
     "metadata": {},
     "output_type": "execute_result"
    }
   ],
   "source": [
    "pred"
   ]
  },
  {
   "cell_type": "code",
   "execution_count": 40,
   "metadata": {},
   "outputs": [
    {
     "data": {
      "text/plain": [
       "array([[19,  2],\n",
       "       [ 2,  7]], dtype=int64)"
      ]
     },
     "execution_count": 40,
     "metadata": {},
     "output_type": "execute_result"
    }
   ],
   "source": [
    "confusion_matrix(pred,y_test)"
   ]
  },
  {
   "cell_type": "code",
   "execution_count": 41,
   "metadata": {},
   "outputs": [],
   "source": [
    "from sklearn.metrics import accuracy_score, precision_score, recall_score\n",
    "import warnings\n",
    "warnings.filterwarnings(\"ignore\")"
   ]
  },
  {
   "cell_type": "code",
   "execution_count": 42,
   "metadata": {},
   "outputs": [
    {
     "name": "stdout",
     "output_type": "stream",
     "text": [
      "Accuracy:  0.8666666666666667\n",
      "Precision:  0.8666666666666667\n",
      "Recall:  0.8666666666666667\n"
     ]
    }
   ],
   "source": [
    "print(\"Accuracy: \", accuracy_score(pred,y_test))\n",
    "print(\"Precision: \", precision_score(pred,y_test,average=\"weighted\"))\n",
    "print(\"Recall: \",recall_score(pred,y_test,average=\"weighted\"))"
   ]
  },
  {
   "cell_type": "markdown",
   "metadata": {},
   "source": [
    "### Predicting your model"
   ]
  },
  {
   "cell_type": "code",
   "execution_count": 43,
   "metadata": {},
   "outputs": [
    {
     "name": "stdout",
     "output_type": "stream",
     "text": [
      "['happy']\n"
     ]
    }
   ],
   "source": [
    "ex=[\"i'm unhappy\"]\n",
    "r=model.predict(ex)\n",
    "print(r)"
   ]
  },
  {
   "cell_type": "code",
   "execution_count": null,
   "metadata": {},
   "outputs": [],
   "source": []
  }
 ],
 "metadata": {
  "kernelspec": {
   "display_name": "Python 3",
   "language": "python",
   "name": "python3"
  },
  "language_info": {
   "codemirror_mode": {
    "name": "ipython",
    "version": 3
   },
   "file_extension": ".py",
   "mimetype": "text/x-python",
   "name": "python",
   "nbconvert_exporter": "python",
   "pygments_lexer": "ipython3",
   "version": "3.7.3"
  }
 },
 "nbformat": 4,
 "nbformat_minor": 2
}
